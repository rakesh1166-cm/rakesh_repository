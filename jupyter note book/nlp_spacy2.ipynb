{
 "cells": [
  {
   "cell_type": "markdown",
   "metadata": {},
   "source": [
    "<h3>Installation instructions</h3>"
   ]
  },
  {
   "cell_type": "markdown",
   "metadata": {},
   "source": [
    "pip install spacy\n",
    "\n",
    "python -m spacy download en"
   ]
  },
  {
   "cell_type": "markdown",
   "metadata": {},
   "source": [
    "pip install nltk"
   ]
  },
  {
   "cell_type": "markdown",
   "metadata": {},
   "source": [
    "<h3>Sentence & Word Tokenization In Spacy</h3>"
   ]
  },
  {
   "cell_type": "code",
   "execution_count": 1,
   "metadata": {},
   "outputs": [],
   "source": [
    "#implement dependencies\n",
    "#Load the SpaCy Model:\n",
    "#Process Text with SpaCy: generate sntence using doc.sents\n",
    "#generate word\n",
    "#Sentence & Word Tokenization In NLTK\n",
    "#Tokenize Text into Sentences\n",
    "#Tokenize Text into Words\n",
    "#extract token.pos_,token.text, token.lemma_,ent.text, ent.label_,token.is_stop,token.vector[:5]\n",
    "#extract word using nested for loop or word tokenize"
   ]
  },
  {
   "cell_type": "markdown",
   "metadata": {},
   "source": [
    "https://www.debug.school/rakeshdevcotocus_468/how-to-extract-information-using-nlp-spacy-library-2606\n",
    "\n",
    "https://www.debug.school/rakeshdevcotocus_468/how-to-extract-information-using-nlp-nltk-library-boe"
   ]
  },
  {
   "cell_type": "code",
   "execution_count": 2,
   "metadata": {},
   "outputs": [
    {
     "name": "stdout",
     "output_type": "stream",
     "text": [
      "Requirement already satisfied: spacy in c:\\users\\rakes\\anaconda3\\lib\\site-packages (3.8.2)\n",
      "Requirement already satisfied: spacy-legacy<3.1.0,>=3.0.11 in c:\\users\\rakes\\anaconda3\\lib\\site-packages (from spacy) (3.0.12)\n",
      "Requirement already satisfied: spacy-loggers<2.0.0,>=1.0.0 in c:\\users\\rakes\\anaconda3\\lib\\site-packages (from spacy) (1.0.5)\n",
      "Requirement already satisfied: murmurhash<1.1.0,>=0.28.0 in c:\\users\\rakes\\anaconda3\\lib\\site-packages (from spacy) (1.0.10)\n",
      "Requirement already satisfied: cymem<2.1.0,>=2.0.2 in c:\\users\\rakes\\anaconda3\\lib\\site-packages (from spacy) (2.0.8)\n",
      "Requirement already satisfied: preshed<3.1.0,>=3.0.2 in c:\\users\\rakes\\anaconda3\\lib\\site-packages (from spacy) (3.0.9)\n",
      "Requirement already satisfied: thinc<8.4.0,>=8.3.0 in c:\\users\\rakes\\anaconda3\\lib\\site-packages (from spacy) (8.3.2)\n",
      "Requirement already satisfied: wasabi<1.2.0,>=0.9.1 in c:\\users\\rakes\\anaconda3\\lib\\site-packages (from spacy) (1.1.3)\n",
      "Requirement already satisfied: srsly<3.0.0,>=2.4.3 in c:\\users\\rakes\\anaconda3\\lib\\site-packages (from spacy) (2.4.8)\n",
      "Requirement already satisfied: catalogue<2.1.0,>=2.0.6 in c:\\users\\rakes\\anaconda3\\lib\\site-packages (from spacy) (2.0.10)\n",
      "Requirement already satisfied: weasel<0.5.0,>=0.1.0 in c:\\users\\rakes\\anaconda3\\lib\\site-packages (from spacy) (0.4.1)\n",
      "Requirement already satisfied: typer<1.0.0,>=0.3.0 in c:\\users\\rakes\\anaconda3\\lib\\site-packages (from spacy) (0.12.5)\n",
      "Requirement already satisfied: tqdm<5.0.0,>=4.38.0 in c:\\users\\rakes\\anaconda3\\lib\\site-packages (from spacy) (4.65.0)\n",
      "Requirement already satisfied: requests<3.0.0,>=2.13.0 in c:\\users\\rakes\\anaconda3\\lib\\site-packages (from spacy) (2.31.0)\n",
      "Requirement already satisfied: pydantic!=1.8,!=1.8.1,<3.0.0,>=1.7.4 in c:\\users\\rakes\\anaconda3\\lib\\site-packages (from spacy) (1.10.8)\n",
      "Requirement already satisfied: jinja2 in c:\\users\\rakes\\anaconda3\\lib\\site-packages (from spacy) (3.1.2)\n",
      "Requirement already satisfied: setuptools in c:\\users\\rakes\\anaconda3\\lib\\site-packages (from spacy) (68.0.0)\n",
      "Requirement already satisfied: packaging>=20.0 in c:\\users\\rakes\\anaconda3\\lib\\site-packages (from spacy) (23.1)\n",
      "Requirement already satisfied: langcodes<4.0.0,>=3.2.0 in c:\\users\\rakes\\anaconda3\\lib\\site-packages (from spacy) (3.4.1)\n",
      "Requirement already satisfied: numpy>=1.19.0 in c:\\users\\rakes\\anaconda3\\lib\\site-packages (from spacy) (2.0.2)\n",
      "Requirement already satisfied: language-data>=1.2 in c:\\users\\rakes\\anaconda3\\lib\\site-packages (from langcodes<4.0.0,>=3.2.0->spacy) (1.2.0)\n",
      "Requirement already satisfied: typing-extensions>=4.2.0 in c:\\users\\rakes\\anaconda3\\lib\\site-packages (from pydantic!=1.8,!=1.8.1,<3.0.0,>=1.7.4->spacy) (4.7.1)\n",
      "Requirement already satisfied: charset-normalizer<4,>=2 in c:\\users\\rakes\\anaconda3\\lib\\site-packages (from requests<3.0.0,>=2.13.0->spacy) (2.0.4)\n",
      "Requirement already satisfied: idna<4,>=2.5 in c:\\users\\rakes\\anaconda3\\lib\\site-packages (from requests<3.0.0,>=2.13.0->spacy) (3.4)\n",
      "Requirement already satisfied: urllib3<3,>=1.21.1 in c:\\users\\rakes\\anaconda3\\lib\\site-packages (from requests<3.0.0,>=2.13.0->spacy) (1.26.16)\n",
      "Requirement already satisfied: certifi>=2017.4.17 in c:\\users\\rakes\\anaconda3\\lib\\site-packages (from requests<3.0.0,>=2.13.0->spacy) (2023.7.22)\n",
      "Requirement already satisfied: blis<1.1.0,>=1.0.0 in c:\\users\\rakes\\anaconda3\\lib\\site-packages (from thinc<8.4.0,>=8.3.0->spacy) (1.0.1)\n",
      "Requirement already satisfied: confection<1.0.0,>=0.0.1 in c:\\users\\rakes\\anaconda3\\lib\\site-packages (from thinc<8.4.0,>=8.3.0->spacy) (0.1.5)\n",
      "Requirement already satisfied: colorama in c:\\users\\rakes\\anaconda3\\lib\\site-packages (from tqdm<5.0.0,>=4.38.0->spacy) (0.4.6)\n",
      "Requirement already satisfied: click>=8.0.0 in c:\\users\\rakes\\anaconda3\\lib\\site-packages (from typer<1.0.0,>=0.3.0->spacy) (8.0.4)\n",
      "Requirement already satisfied: shellingham>=1.3.0 in c:\\users\\rakes\\anaconda3\\lib\\site-packages (from typer<1.0.0,>=0.3.0->spacy) (1.5.4)\n",
      "Requirement already satisfied: rich>=10.11.0 in c:\\users\\rakes\\anaconda3\\lib\\site-packages (from typer<1.0.0,>=0.3.0->spacy) (13.8.0)\n",
      "Requirement already satisfied: cloudpathlib<1.0.0,>=0.7.0 in c:\\users\\rakes\\anaconda3\\lib\\site-packages (from weasel<0.5.0,>=0.1.0->spacy) (0.20.0)\n",
      "Requirement already satisfied: smart-open<8.0.0,>=5.2.1 in c:\\users\\rakes\\anaconda3\\lib\\site-packages (from weasel<0.5.0,>=0.1.0->spacy) (5.2.1)\n",
      "Requirement already satisfied: MarkupSafe>=2.0 in c:\\users\\rakes\\anaconda3\\lib\\site-packages (from jinja2->spacy) (2.1.1)\n",
      "Requirement already satisfied: marisa-trie>=0.7.7 in c:\\users\\rakes\\anaconda3\\lib\\site-packages (from language-data>=1.2->langcodes<4.0.0,>=3.2.0->spacy) (1.2.1)\n",
      "Requirement already satisfied: markdown-it-py>=2.2.0 in c:\\users\\rakes\\anaconda3\\lib\\site-packages (from rich>=10.11.0->typer<1.0.0,>=0.3.0->spacy) (2.2.0)\n",
      "Requirement already satisfied: pygments<3.0.0,>=2.13.0 in c:\\users\\rakes\\anaconda3\\lib\\site-packages (from rich>=10.11.0->typer<1.0.0,>=0.3.0->spacy) (2.15.1)\n",
      "Requirement already satisfied: mdurl~=0.1 in c:\\users\\rakes\\anaconda3\\lib\\site-packages (from markdown-it-py>=2.2.0->rich>=10.11.0->typer<1.0.0,>=0.3.0->spacy) (0.1.0)\n",
      "Note: you may need to restart the kernel to use updated packages.\n"
     ]
    }
   ],
   "source": [
    "pip install spacy"
   ]
  },
  {
   "cell_type": "code",
   "execution_count": 3,
   "metadata": {},
   "outputs": [
    {
     "name": "stdout",
     "output_type": "stream",
     "text": [
      "Collecting en-core-web-sm==3.8.0\n",
      "  Downloading https://github.com/explosion/spacy-models/releases/download/en_core_web_sm-3.8.0/en_core_web_sm-3.8.0-py3-none-any.whl (12.8 MB)\n",
      "     ---------------------------------------- 0.0/12.8 MB ? eta -:--:--\n",
      "     ---------------------------------------- 0.0/12.8 MB ? eta -:--:--\n",
      "     --------------------------------------- 0.0/12.8 MB 326.8 kB/s eta 0:00:40\n",
      "     --------------------------------------- 0.1/12.8 MB 657.6 kB/s eta 0:00:20\n",
      "     --------------------------------------- 0.1/12.8 MB 657.6 kB/s eta 0:00:20\n",
      "      -------------------------------------- 0.2/12.8 MB 743.9 kB/s eta 0:00:17\n",
      "      -------------------------------------- 0.2/12.8 MB 831.5 kB/s eta 0:00:16\n",
      "      -------------------------------------- 0.3/12.8 MB 948.8 kB/s eta 0:00:14\n",
      "      -------------------------------------- 0.3/12.8 MB 948.8 kB/s eta 0:00:14\n",
      "     - -------------------------------------- 0.4/12.8 MB 1.0 MB/s eta 0:00:13\n",
      "     - -------------------------------------- 0.5/12.8 MB 1.1 MB/s eta 0:00:11\n",
      "     - -------------------------------------- 0.5/12.8 MB 1.0 MB/s eta 0:00:12\n",
      "     - -------------------------------------- 0.5/12.8 MB 1.0 MB/s eta 0:00:12\n",
      "     - ------------------------------------- 0.6/12.8 MB 965.4 kB/s eta 0:00:13\n",
      "     -- ------------------------------------- 0.7/12.8 MB 1.2 MB/s eta 0:00:11\n",
      "     -- ------------------------------------- 0.7/12.8 MB 1.2 MB/s eta 0:00:11\n",
      "     -- ------------------------------------- 0.8/12.8 MB 1.1 MB/s eta 0:00:11\n",
      "     -- ------------------------------------- 0.9/12.8 MB 1.1 MB/s eta 0:00:11\n",
      "     --- ------------------------------------ 1.0/12.8 MB 1.2 MB/s eta 0:00:11\n",
      "     --- ------------------------------------ 1.1/12.8 MB 1.2 MB/s eta 0:00:10\n",
      "     --- ------------------------------------ 1.1/12.8 MB 1.2 MB/s eta 0:00:10\n",
      "     --- ------------------------------------ 1.2/12.8 MB 1.2 MB/s eta 0:00:10\n",
      "     --- ------------------------------------ 1.3/12.8 MB 1.2 MB/s eta 0:00:10\n",
      "     ---- ----------------------------------- 1.3/12.8 MB 1.3 MB/s eta 0:00:09\n",
      "     ---- ----------------------------------- 1.4/12.8 MB 1.3 MB/s eta 0:00:09\n",
      "     ---- ----------------------------------- 1.5/12.8 MB 1.3 MB/s eta 0:00:09\n",
      "     ---- ----------------------------------- 1.5/12.8 MB 1.3 MB/s eta 0:00:09\n",
      "     ----- ---------------------------------- 1.7/12.8 MB 1.3 MB/s eta 0:00:09\n",
      "     ----- ---------------------------------- 1.8/12.8 MB 1.4 MB/s eta 0:00:09\n",
      "     ----- ---------------------------------- 1.8/12.8 MB 1.4 MB/s eta 0:00:08\n",
      "     ------ --------------------------------- 1.9/12.8 MB 1.4 MB/s eta 0:00:08\n",
      "     ------ --------------------------------- 2.0/12.8 MB 1.4 MB/s eta 0:00:08\n",
      "     ------ --------------------------------- 2.1/12.8 MB 1.4 MB/s eta 0:00:08\n",
      "     ------ --------------------------------- 2.2/12.8 MB 1.4 MB/s eta 0:00:08\n",
      "     ------ --------------------------------- 2.2/12.8 MB 1.4 MB/s eta 0:00:08\n",
      "     ------- -------------------------------- 2.3/12.8 MB 1.4 MB/s eta 0:00:08\n",
      "     ------- -------------------------------- 2.4/12.8 MB 1.5 MB/s eta 0:00:08\n",
      "     ------- -------------------------------- 2.5/12.8 MB 1.5 MB/s eta 0:00:08\n",
      "     -------- ------------------------------- 2.6/12.8 MB 1.5 MB/s eta 0:00:07\n",
      "     -------- ------------------------------- 2.7/12.8 MB 1.5 MB/s eta 0:00:07\n",
      "     -------- ------------------------------- 2.7/12.8 MB 1.5 MB/s eta 0:00:07\n",
      "     -------- ------------------------------- 2.8/12.8 MB 1.5 MB/s eta 0:00:07\n",
      "     --------- ------------------------------ 2.9/12.8 MB 1.5 MB/s eta 0:00:07\n",
      "     --------- ------------------------------ 3.0/12.8 MB 1.5 MB/s eta 0:00:07\n",
      "     --------- ------------------------------ 3.0/12.8 MB 1.5 MB/s eta 0:00:07\n",
      "     --------- ------------------------------ 3.1/12.8 MB 1.5 MB/s eta 0:00:07\n",
      "     --------- ------------------------------ 3.2/12.8 MB 1.5 MB/s eta 0:00:07\n",
      "     ---------- ----------------------------- 3.3/12.8 MB 1.5 MB/s eta 0:00:07\n",
      "     ---------- ----------------------------- 3.4/12.8 MB 1.5 MB/s eta 0:00:07\n",
      "     ---------- ----------------------------- 3.4/12.8 MB 1.5 MB/s eta 0:00:07\n",
      "     ----------- ---------------------------- 3.5/12.8 MB 1.5 MB/s eta 0:00:07\n",
      "     ----------- ---------------------------- 3.6/12.8 MB 1.5 MB/s eta 0:00:07\n",
      "     ----------- ---------------------------- 3.6/12.8 MB 1.5 MB/s eta 0:00:06\n",
      "     ----------- ---------------------------- 3.7/12.8 MB 1.5 MB/s eta 0:00:06\n",
      "     ----------- ---------------------------- 3.8/12.8 MB 1.5 MB/s eta 0:00:06\n",
      "     ------------ --------------------------- 3.9/12.8 MB 1.6 MB/s eta 0:00:06\n",
      "     ------------ --------------------------- 4.0/12.8 MB 1.6 MB/s eta 0:00:06\n",
      "     ------------ --------------------------- 4.1/12.8 MB 1.6 MB/s eta 0:00:06\n",
      "     ------------ --------------------------- 4.2/12.8 MB 1.6 MB/s eta 0:00:06\n",
      "     ------------- -------------------------- 4.2/12.8 MB 1.6 MB/s eta 0:00:06\n",
      "     ------------- -------------------------- 4.3/12.8 MB 1.6 MB/s eta 0:00:06\n",
      "     ------------- -------------------------- 4.4/12.8 MB 1.6 MB/s eta 0:00:06\n",
      "     -------------- ------------------------- 4.5/12.8 MB 1.6 MB/s eta 0:00:06\n",
      "     -------------- ------------------------- 4.6/12.8 MB 1.6 MB/s eta 0:00:06\n",
      "     -------------- ------------------------- 4.6/12.8 MB 1.6 MB/s eta 0:00:06\n",
      "     -------------- ------------------------- 4.7/12.8 MB 1.6 MB/s eta 0:00:06\n",
      "     -------------- ------------------------- 4.8/12.8 MB 1.6 MB/s eta 0:00:06\n",
      "     -------------- ------------------------- 4.8/12.8 MB 1.6 MB/s eta 0:00:06\n",
      "     --------------- ------------------------ 4.9/12.8 MB 1.6 MB/s eta 0:00:05\n",
      "     --------------- ------------------------ 5.0/12.8 MB 1.6 MB/s eta 0:00:05\n",
      "     --------------- ------------------------ 5.1/12.8 MB 1.6 MB/s eta 0:00:05\n",
      "     ---------------- ----------------------- 5.2/12.8 MB 1.6 MB/s eta 0:00:05\n",
      "     ---------------- ----------------------- 5.3/12.8 MB 1.6 MB/s eta 0:00:05\n",
      "     ---------------- ----------------------- 5.4/12.8 MB 1.6 MB/s eta 0:00:05\n",
      "     ----------------- ---------------------- 5.4/12.8 MB 1.6 MB/s eta 0:00:05\n",
      "     ----------------- ---------------------- 5.5/12.8 MB 1.6 MB/s eta 0:00:05\n",
      "     ----------------- ---------------------- 5.6/12.8 MB 1.6 MB/s eta 0:00:05\n",
      "     ----------------- ---------------------- 5.7/12.8 MB 1.6 MB/s eta 0:00:05\n",
      "     ------------------ --------------------- 5.8/12.8 MB 1.6 MB/s eta 0:00:05\n",
      "     ------------------ --------------------- 5.8/12.8 MB 1.6 MB/s eta 0:00:05\n",
      "     ------------------ --------------------- 5.9/12.8 MB 1.6 MB/s eta 0:00:05\n",
      "     ------------------ --------------------- 6.0/12.8 MB 1.6 MB/s eta 0:00:05\n",
      "     ------------------ --------------------- 6.0/12.8 MB 1.6 MB/s eta 0:00:05\n",
      "     ------------------ --------------------- 6.1/12.8 MB 1.6 MB/s eta 0:00:05\n",
      "     ------------------- -------------------- 6.1/12.8 MB 1.6 MB/s eta 0:00:05\n",
      "     ------------------- -------------------- 6.2/12.8 MB 1.6 MB/s eta 0:00:05\n",
      "     ------------------- -------------------- 6.3/12.8 MB 1.6 MB/s eta 0:00:05\n",
      "     ------------------- -------------------- 6.4/12.8 MB 1.6 MB/s eta 0:00:04\n",
      "     -------------------- ------------------- 6.4/12.8 MB 1.6 MB/s eta 0:00:04\n",
      "     -------------------- ------------------- 6.5/12.8 MB 1.6 MB/s eta 0:00:04\n",
      "     -------------------- ------------------- 6.6/12.8 MB 1.6 MB/s eta 0:00:04\n",
      "     -------------------- ------------------- 6.7/12.8 MB 1.6 MB/s eta 0:00:04\n",
      "     --------------------- ------------------ 6.8/12.8 MB 1.6 MB/s eta 0:00:04\n",
      "     --------------------- ------------------ 6.9/12.8 MB 1.6 MB/s eta 0:00:04\n",
      "     --------------------- ------------------ 6.9/12.8 MB 1.6 MB/s eta 0:00:04\n",
      "     --------------------- ------------------ 7.0/12.8 MB 1.6 MB/s eta 0:00:04\n",
      "     ---------------------- ----------------- 7.1/12.8 MB 1.6 MB/s eta 0:00:04\n",
      "     ---------------------- ----------------- 7.2/12.8 MB 1.6 MB/s eta 0:00:04\n",
      "     ---------------------- ----------------- 7.3/12.8 MB 1.6 MB/s eta 0:00:04\n",
      "     ---------------------- ----------------- 7.4/12.8 MB 1.6 MB/s eta 0:00:04\n",
      "     ----------------------- ---------------- 7.4/12.8 MB 1.6 MB/s eta 0:00:04\n",
      "     ----------------------- ---------------- 7.5/12.8 MB 1.6 MB/s eta 0:00:04\n",
      "     ----------------------- ---------------- 7.5/12.8 MB 1.6 MB/s eta 0:00:04\n",
      "     ----------------------- ---------------- 7.6/12.8 MB 1.6 MB/s eta 0:00:04\n",
      "     ----------------------- ---------------- 7.6/12.8 MB 1.6 MB/s eta 0:00:04\n",
      "     ------------------------ --------------- 7.7/12.8 MB 1.6 MB/s eta 0:00:04\n",
      "     ------------------------ --------------- 7.7/12.8 MB 1.6 MB/s eta 0:00:04\n",
      "     ------------------------ --------------- 7.8/12.8 MB 1.6 MB/s eta 0:00:04\n",
      "     ------------------------ --------------- 7.9/12.8 MB 1.6 MB/s eta 0:00:04\n",
      "     ------------------------ --------------- 7.9/12.8 MB 1.6 MB/s eta 0:00:04\n",
      "     ------------------------ --------------- 8.0/12.8 MB 1.6 MB/s eta 0:00:04\n",
      "     ------------------------- -------------- 8.1/12.8 MB 1.6 MB/s eta 0:00:03\n",
      "     ------------------------- -------------- 8.2/12.8 MB 1.6 MB/s eta 0:00:03\n",
      "     ------------------------- -------------- 8.3/12.8 MB 1.6 MB/s eta 0:00:03\n",
      "     ------------------------- -------------- 8.3/12.8 MB 1.6 MB/s eta 0:00:03\n",
      "     -------------------------- ------------- 8.4/12.8 MB 1.6 MB/s eta 0:00:03\n",
      "     -------------------------- ------------- 8.5/12.8 MB 1.6 MB/s eta 0:00:03\n",
      "     -------------------------- ------------- 8.6/12.8 MB 1.6 MB/s eta 0:00:03\n",
      "     -------------------------- ------------- 8.6/12.8 MB 1.6 MB/s eta 0:00:03\n",
      "     --------------------------- ------------ 8.7/12.8 MB 1.6 MB/s eta 0:00:03\n",
      "     --------------------------- ------------ 8.8/12.8 MB 1.6 MB/s eta 0:00:03\n",
      "     --------------------------- ------------ 8.9/12.8 MB 1.6 MB/s eta 0:00:03\n",
      "     --------------------------- ------------ 8.9/12.8 MB 1.6 MB/s eta 0:00:03\n",
      "     ---------------------------- ----------- 9.0/12.8 MB 1.6 MB/s eta 0:00:03\n",
      "     ---------------------------- ----------- 9.1/12.8 MB 1.6 MB/s eta 0:00:03\n",
      "     ---------------------------- ----------- 9.2/12.8 MB 1.6 MB/s eta 0:00:03\n",
      "     ---------------------------- ----------- 9.2/12.8 MB 1.6 MB/s eta 0:00:03\n",
      "     ----------------------------- ---------- 9.3/12.8 MB 1.6 MB/s eta 0:00:03\n",
      "     ----------------------------- ---------- 9.4/12.8 MB 1.6 MB/s eta 0:00:03\n",
      "     ----------------------------- ---------- 9.5/12.8 MB 1.6 MB/s eta 0:00:03\n",
      "     ----------------------------- ---------- 9.6/12.8 MB 1.6 MB/s eta 0:00:02\n",
      "     ------------------------------ --------- 9.7/12.8 MB 1.6 MB/s eta 0:00:02\n",
      "     ------------------------------ --------- 9.8/12.8 MB 1.6 MB/s eta 0:00:02\n",
      "     ------------------------------ --------- 9.9/12.8 MB 1.6 MB/s eta 0:00:02\n",
      "     ------------------------------ --------- 9.9/12.8 MB 1.6 MB/s eta 0:00:02\n",
      "     ------------------------------- -------- 10.0/12.8 MB 1.6 MB/s eta 0:00:02\n",
      "     ------------------------------- -------- 10.1/12.8 MB 1.6 MB/s eta 0:00:02\n",
      "     ------------------------------- -------- 10.2/12.8 MB 1.6 MB/s eta 0:00:02\n",
      "     ------------------------------- -------- 10.2/12.8 MB 1.6 MB/s eta 0:00:02\n",
      "     -------------------------------- ------- 10.3/12.8 MB 1.7 MB/s eta 0:00:02\n",
      "     -------------------------------- ------- 10.4/12.8 MB 1.7 MB/s eta 0:00:02\n",
      "     -------------------------------- ------- 10.5/12.8 MB 1.7 MB/s eta 0:00:02\n",
      "     --------------------------------- ------ 10.6/12.8 MB 1.7 MB/s eta 0:00:02\n",
      "     --------------------------------- ------ 10.6/12.8 MB 1.7 MB/s eta 0:00:02\n",
      "     --------------------------------- ------ 10.7/12.8 MB 1.7 MB/s eta 0:00:02\n",
      "     --------------------------------- ------ 10.8/12.8 MB 1.7 MB/s eta 0:00:02\n",
      "     ---------------------------------- ----- 10.9/12.8 MB 1.7 MB/s eta 0:00:02\n",
      "     ---------------------------------- ----- 11.0/12.8 MB 1.7 MB/s eta 0:00:02\n",
      "     ---------------------------------- ----- 11.1/12.8 MB 1.7 MB/s eta 0:00:02\n",
      "     ---------------------------------- ----- 11.1/12.8 MB 1.7 MB/s eta 0:00:01\n",
      "     ---------------------------------- ----- 11.2/12.8 MB 1.7 MB/s eta 0:00:01\n",
      "     ----------------------------------- ---- 11.3/12.8 MB 1.7 MB/s eta 0:00:01\n",
      "     ----------------------------------- ---- 11.4/12.8 MB 1.7 MB/s eta 0:00:01\n",
      "     ----------------------------------- ---- 11.5/12.8 MB 1.7 MB/s eta 0:00:01\n",
      "     ------------------------------------ --- 11.6/12.8 MB 1.7 MB/s eta 0:00:01\n",
      "     ------------------------------------ --- 11.6/12.8 MB 1.7 MB/s eta 0:00:01\n",
      "     ------------------------------------ --- 11.7/12.8 MB 1.7 MB/s eta 0:00:01\n",
      "     ------------------------------------ --- 11.8/12.8 MB 1.7 MB/s eta 0:00:01\n",
      "     ------------------------------------- -- 11.9/12.8 MB 1.7 MB/s eta 0:00:01\n",
      "     ------------------------------------- -- 12.0/12.8 MB 1.7 MB/s eta 0:00:01\n",
      "     ------------------------------------- -- 12.1/12.8 MB 1.7 MB/s eta 0:00:01\n",
      "     ------------------------------------- -- 12.1/12.8 MB 1.7 MB/s eta 0:00:01\n",
      "     -------------------------------------- - 12.2/12.8 MB 1.7 MB/s eta 0:00:01\n",
      "     -------------------------------------- - 12.3/12.8 MB 1.7 MB/s eta 0:00:01\n",
      "     -------------------------------------- - 12.4/12.8 MB 1.7 MB/s eta 0:00:01\n",
      "     -------------------------------------- - 12.5/12.8 MB 1.7 MB/s eta 0:00:01\n",
      "     ---------------------------------------  12.5/12.8 MB 1.7 MB/s eta 0:00:01\n",
      "     ---------------------------------------  12.6/12.8 MB 1.7 MB/s eta 0:00:01\n",
      "     ---------------------------------------  12.7/12.8 MB 1.7 MB/s eta 0:00:01\n",
      "     ---------------------------------------  12.7/12.8 MB 1.7 MB/s eta 0:00:01\n",
      "     ---------------------------------------  12.8/12.8 MB 1.7 MB/s eta 0:00:01\n",
      "     ---------------------------------------  12.8/12.8 MB 1.7 MB/s eta 0:00:01\n",
      "     ---------------------------------------  12.8/12.8 MB 1.7 MB/s eta 0:00:01\n",
      "     ---------------------------------------- 12.8/12.8 MB 1.7 MB/s eta 0:00:00\n",
      "\u001b[38;5;2m[+] Download and installation successful\u001b[0m\n",
      "You can now load the package via spacy.load('en_core_web_sm')\n"
     ]
    }
   ],
   "source": [
    "!python -m spacy download en_core_web_sm"
   ]
  },
  {
   "cell_type": "code",
   "execution_count": 4,
   "metadata": {},
   "outputs": [
    {
     "name": "stdout",
     "output_type": "stream",
     "text": [
      "Requirement already satisfied: nltk in c:\\users\\rakes\\anaconda3\\lib\\site-packages (3.8.1)\n",
      "Requirement already satisfied: click in c:\\users\\rakes\\anaconda3\\lib\\site-packages (from nltk) (8.0.4)\n",
      "Requirement already satisfied: joblib in c:\\users\\rakes\\anaconda3\\lib\\site-packages (from nltk) (1.2.0)\n",
      "Requirement already satisfied: regex>=2021.8.3 in c:\\users\\rakes\\anaconda3\\lib\\site-packages (from nltk) (2022.7.9)\n",
      "Requirement already satisfied: tqdm in c:\\users\\rakes\\anaconda3\\lib\\site-packages (from nltk) (4.65.0)\n",
      "Requirement already satisfied: colorama in c:\\users\\rakes\\anaconda3\\lib\\site-packages (from click->nltk) (0.4.6)\n",
      "Note: you may need to restart the kernel to use updated packages.\n"
     ]
    }
   ],
   "source": [
    "pip install nltk"
   ]
  },
  {
   "cell_type": "code",
   "execution_count": 5,
   "metadata": {},
   "outputs": [],
   "source": [
    "#Load the SpaCy Model:\n",
    "import spacy"
   ]
  },
  {
   "cell_type": "code",
   "execution_count": 6,
   "metadata": {},
   "outputs": [],
   "source": [
    "#Process Text with SpaCy:\n",
    "nlp = spacy.load(\"en_core_web_sm\")\n",
    "#we apply the nlp model to a sentence, converting it into a doc object that SpaCy can work with. The doc object contains information about each word, sentence, and other features in the text.\n",
    "doc = nlp(\"Dr. Strange loves pav bhaji of mumbai. Hulk loves chat of delhi\")"
   ]
  },
  {
   "cell_type": "code",
   "execution_count": 7,
   "metadata": {},
   "outputs": [
    {
     "name": "stdout",
     "output_type": "stream",
     "text": [
      "Dr. Strange loves pav bhaji of mumbai.\n",
      "Hulk loves chat of delhi\n"
     ]
    }
   ],
   "source": [
    "for sentence in doc.sents:\n",
    "    print(sentence)"
   ]
  },
  {
   "cell_type": "code",
   "execution_count": 8,
   "metadata": {
    "scrolled": true
   },
   "outputs": [
    {
     "name": "stdout",
     "output_type": "stream",
     "text": [
      "Dr.\n",
      "Strange\n",
      "loves\n",
      "pav\n",
      "bhaji\n",
      "of\n",
      "mumbai\n",
      ".\n",
      "Hulk\n",
      "loves\n",
      "chat\n",
      "of\n",
      "delhi\n"
     ]
    }
   ],
   "source": [
    "for sentence in doc.sents:\n",
    "    for word in sentence:\n",
    "        print(word)"
   ]
  },
  {
   "cell_type": "code",
   "execution_count": 19,
   "metadata": {},
   "outputs": [
    {
     "name": "stdout",
     "output_type": "stream",
     "text": [
      "Dr.\n",
      "Dr. PROPN\n",
      "Strange\n",
      "Strange PROPN\n",
      "loves\n",
      "loves VERB\n",
      "pav\n",
      "pav NOUN\n",
      "bhaji\n",
      "bhaji NOUN\n",
      "of\n",
      "of ADP\n",
      "mumbai\n",
      "mumbai NOUN\n",
      ".\n",
      ". PUNCT\n",
      "Hulk\n",
      "Hulk PROPN\n",
      "loves\n",
      "loves VERB\n",
      "chat\n",
      "chat NOUN\n",
      "of\n",
      "of ADP\n",
      "delhi\n",
      "delhi PROPN\n"
     ]
    }
   ],
   "source": [
    "for sentence in doc.sents:\n",
    "    for token in sentence:\n",
    "        print(token)\n",
    "        print(token.text, token.pos_)\n",
    "     "
   ]
  },
  {
   "cell_type": "code",
   "execution_count": 10,
   "metadata": {},
   "outputs": [
    {
     "name": "stdout",
     "output_type": "stream",
     "text": [
      "Dr. Dr.\n",
      "Strange Strange\n",
      "loves love\n",
      "pav pav\n",
      "bhaji bhaji\n",
      "of of\n",
      "mumbai mumbai\n",
      ". .\n",
      "Hulk Hulk\n",
      "loves love\n",
      "chat chat\n",
      "of of\n",
      "delhi delhi\n"
     ]
    }
   ],
   "source": [
    "for sentence in doc.sents:\n",
    "    for token in sentence:\n",
    "        print(token.text, token.lemma_)"
   ]
  },
  {
   "cell_type": "code",
   "execution_count": 11,
   "metadata": {},
   "outputs": [
    {
     "data": {
      "text/plain": [
       "[('Dr.', 'Dr.'),\n",
       " ('Strange', 'Strange'),\n",
       " ('loves', 'love'),\n",
       " ('pav', 'pav'),\n",
       " ('bhaji', 'bhaji'),\n",
       " ('of', 'of'),\n",
       " ('mumbai', 'mumbai'),\n",
       " ('.', '.'),\n",
       " ('Hulk', 'Hulk'),\n",
       " ('loves', 'love'),\n",
       " ('chat', 'chat'),\n",
       " ('of', 'of'),\n",
       " ('delhi', 'delhi')]"
      ]
     },
     "execution_count": 11,
     "metadata": {},
     "output_type": "execute_result"
    }
   ],
   "source": [
    "[(token.text, token.lemma_) for sentence in doc.sents for token in sentence]"
   ]
  },
  {
   "cell_type": "code",
   "execution_count": 12,
   "metadata": {},
   "outputs": [
    {
     "name": "stdout",
     "output_type": "stream",
     "text": [
      "Strange PERSON\n",
      "mumbai GPE\n"
     ]
    }
   ],
   "source": [
    "for ent  in doc.ents:    \n",
    "    print(ent.text, ent.label_)"
   ]
  },
  {
   "cell_type": "code",
   "execution_count": 13,
   "metadata": {},
   "outputs": [
    {
     "name": "stdout",
     "output_type": "stream",
     "text": [
      "Dr. compound Strange\n",
      "Strange nsubj loves\n",
      "loves ROOT loves\n",
      "pav amod bhaji\n",
      "bhaji dobj loves\n",
      "of prep bhaji\n",
      "mumbai pobj of\n",
      ". punct loves\n",
      "Hulk nsubj loves\n",
      "loves ROOT loves\n",
      "chat dobj loves\n",
      "of prep chat\n",
      "delhi pobj of\n"
     ]
    }
   ],
   "source": [
    "for token  in doc:    \n",
    "    print(token.text, token.dep_, token.head.text)\n"
   ]
  },
  {
   "cell_type": "code",
   "execution_count": 14,
   "metadata": {},
   "outputs": [
    {
     "name": "stdout",
     "output_type": "stream",
     "text": [
      "Dr. Strange\n",
      "pav bhaji\n",
      "mumbai\n",
      "Hulk\n",
      "chat\n",
      "delhi\n"
     ]
    }
   ],
   "source": [
    "for chunk in doc.noun_chunks:    \n",
    "    print(chunk.text)"
   ]
  },
  {
   "cell_type": "code",
   "execution_count": 15,
   "metadata": {},
   "outputs": [
    {
     "name": "stdout",
     "output_type": "stream",
     "text": [
      "Dr. Xx.\n",
      "Strange Xxxxx\n",
      "loves xxxx\n",
      "pav xxx\n",
      "bhaji xxxx\n",
      "of xx\n",
      "mumbai xxxx\n",
      ". .\n",
      "Hulk Xxxx\n",
      "loves xxxx\n",
      "chat xxxx\n",
      "of xx\n",
      "delhi xxxx\n"
     ]
    }
   ],
   "source": [
    "for token in doc:    \n",
    "    print(token.text, token.shape_)"
   ]
  },
  {
   "cell_type": "code",
   "execution_count": 16,
   "metadata": {},
   "outputs": [
    {
     "name": "stdout",
     "output_type": "stream",
     "text": [
      "Dr. False\n",
      "Strange False\n",
      "loves False\n",
      "pav False\n",
      "bhaji False\n",
      "of True\n",
      "mumbai False\n",
      ". False\n",
      "Hulk False\n",
      "loves False\n",
      "chat False\n",
      "of True\n",
      "delhi False\n"
     ]
    }
   ],
   "source": [
    "for token in doc:    \n",
    "    print(token.text, token.is_stop)"
   ]
  },
  {
   "cell_type": "code",
   "execution_count": 17,
   "metadata": {},
   "outputs": [
    {
     "name": "stdout",
     "output_type": "stream",
     "text": [
      "Dr. [-0.11219602 -1.1186621   1.9475267   0.11604901 -0.28247252]\n",
      "Strange [ 0.10780573 -1.1487108  -0.6947657   0.492244   -0.5571735 ]\n",
      "loves [ 1.1076226   0.91298956 -0.3122607  -0.780093    0.07588796]\n",
      "pav [ 1.0030082   0.72121286  0.75207114 -0.22775511 -0.05587226]\n",
      "bhaji [-0.05408397 -0.5064471  -0.22227481 -0.42134732 -0.12584625]\n",
      "of [ 1.0321141  -1.0978348  -0.5289711  -0.5486021  -0.79950625]\n",
      "mumbai [-0.42768505 -0.13469249  0.35950115 -0.05209608  1.0664175 ]\n",
      ". [ 0.29373246 -0.19179195  0.04770565 -1.3192786  -0.18122312]\n",
      "Hulk [-1.0838536  -0.7718456   0.07748184 -0.0412401  -0.15083048]\n",
      "loves [ 0.53391135  1.2659973  -0.07215425 -0.990988   -0.36927676]\n",
      "chat [0.7011076  0.15533209 0.28441015 0.39959574 0.00466651]\n",
      "of [ 1.0458952  -0.40366137 -0.00378463 -0.87414    -1.0492233 ]\n",
      "delhi [ 0.4576454  -0.6322907   0.32928544 -0.12993525 -0.53202665]\n"
     ]
    }
   ],
   "source": [
    "for token in doc:     \n",
    "    print(token.text, token.vector[:5])"
   ]
  },
  {
   "cell_type": "markdown",
   "metadata": {},
   "source": [
    "<h3>Sentence & Word Tokenization In NLTK</h3>"
   ]
  },
  {
   "cell_type": "code",
   "execution_count": 21,
   "metadata": {},
   "outputs": [
    {
     "name": "stdout",
     "output_type": "stream",
     "text": [
      "Requirement already satisfied: numpy in c:\\users\\rakes\\anaconda3\\lib\\site-packages (2.1.3)\n",
      "Requirement already satisfied: scipy in c:\\users\\rakes\\anaconda3\\lib\\site-packages (1.11.1)\n",
      "Collecting scipy\n",
      "  Obtaining dependency information for scipy from https://files.pythonhosted.org/packages/ea/c2/5ecadc5fcccefaece775feadcd795060adf5c3b29a883bff0e678cfe89af/scipy-1.14.1-cp311-cp311-win_amd64.whl.metadata\n",
      "  Using cached scipy-1.14.1-cp311-cp311-win_amd64.whl.metadata (60 kB)\n",
      "Using cached scipy-1.14.1-cp311-cp311-win_amd64.whl (44.8 MB)\n",
      "Installing collected packages: scipy\n",
      "  Attempting uninstall: scipy\n",
      "    Found existing installation: scipy 1.11.1\n",
      "    Uninstalling scipy-1.11.1:\n",
      "      Successfully uninstalled scipy-1.11.1\n",
      "Successfully installed scipy-1.14.1\n",
      "Note: you may need to restart the kernel to use updated packages.\n"
     ]
    },
    {
     "name": "stderr",
     "output_type": "stream",
     "text": [
      "ERROR: pip's dependency resolver does not currently take into account all the packages that are installed. This behaviour is the source of the following dependency conflicts.\n",
      "gensim 4.3.0 requires FuzzyTM>=0.4.0, which is not installed.\n"
     ]
    }
   ],
   "source": [
    "pip install --upgrade numpy scipy"
   ]
  },
  {
   "cell_type": "code",
   "execution_count": 22,
   "metadata": {
    "scrolled": true
   },
   "outputs": [
    {
     "ename": "AttributeError",
     "evalue": "module 'nltk' has no attribute 'internals'",
     "output_type": "error",
     "traceback": [
      "\u001b[1;31m---------------------------------------------------------------------------\u001b[0m",
      "\u001b[1;31mAttributeError\u001b[0m                            Traceback (most recent call last)",
      "Cell \u001b[1;32mIn[22], line 3\u001b[0m\n\u001b[0;32m      1\u001b[0m \u001b[38;5;28;01mfrom\u001b[39;00m \u001b[38;5;21;01mnltk\u001b[39;00m\u001b[38;5;21;01m.\u001b[39;00m\u001b[38;5;21;01mtokenize\u001b[39;00m \u001b[38;5;28;01mimport\u001b[39;00m sent_tokenize\n\u001b[0;32m      2\u001b[0m \u001b[38;5;28;01mimport\u001b[39;00m \u001b[38;5;21;01mnltk\u001b[39;00m\n\u001b[1;32m----> 3\u001b[0m nltk\u001b[38;5;241m.\u001b[39mdownload(\u001b[38;5;124m'\u001b[39m\u001b[38;5;124mpunkt\u001b[39m\u001b[38;5;124m'\u001b[39m)\n",
      "File \u001b[1;32m~\\anaconda3\\Lib\\site-packages\\nltk\\downloader.py:777\u001b[0m, in \u001b[0;36mDownloader.download\u001b[1;34m(self, info_or_id, download_dir, quiet, force, prefix, halt_on_error, raise_on_error, print_error_to)\u001b[0m\n\u001b[0;32m    768\u001b[0m \u001b[38;5;28;01mdef\u001b[39;00m \u001b[38;5;21mshow\u001b[39m(s, prefix2\u001b[38;5;241m=\u001b[39m\u001b[38;5;124m\"\u001b[39m\u001b[38;5;124m\"\u001b[39m):\n\u001b[0;32m    769\u001b[0m     print_to(\n\u001b[0;32m    770\u001b[0m         textwrap\u001b[38;5;241m.\u001b[39mfill(\n\u001b[0;32m    771\u001b[0m             s,\n\u001b[1;32m   (...)\u001b[0m\n\u001b[0;32m    774\u001b[0m         )\n\u001b[0;32m    775\u001b[0m     )\n\u001b[1;32m--> 777\u001b[0m \u001b[38;5;28;01mfor\u001b[39;00m msg \u001b[38;5;129;01min\u001b[39;00m \u001b[38;5;28mself\u001b[39m\u001b[38;5;241m.\u001b[39mincr_download(info_or_id, download_dir, force):\n\u001b[0;32m    778\u001b[0m     \u001b[38;5;66;03m# Error messages\u001b[39;00m\n\u001b[0;32m    779\u001b[0m     \u001b[38;5;28;01mif\u001b[39;00m \u001b[38;5;28misinstance\u001b[39m(msg, ErrorMessage):\n\u001b[0;32m    780\u001b[0m         show(msg\u001b[38;5;241m.\u001b[39mmessage)\n",
      "File \u001b[1;32m~\\anaconda3\\Lib\\site-packages\\nltk\\downloader.py:629\u001b[0m, in \u001b[0;36mDownloader.incr_download\u001b[1;34m(self, info_or_id, download_dir, force)\u001b[0m\n\u001b[0;32m    627\u001b[0m \u001b[38;5;66;03m# Look up the requested collection or package.\u001b[39;00m\n\u001b[0;32m    628\u001b[0m \u001b[38;5;28;01mtry\u001b[39;00m:\n\u001b[1;32m--> 629\u001b[0m     info \u001b[38;5;241m=\u001b[39m \u001b[38;5;28mself\u001b[39m\u001b[38;5;241m.\u001b[39m_info_or_id(info_or_id)\n\u001b[0;32m    630\u001b[0m \u001b[38;5;28;01mexcept\u001b[39;00m (\u001b[38;5;167;01mOSError\u001b[39;00m, \u001b[38;5;167;01mValueError\u001b[39;00m) \u001b[38;5;28;01mas\u001b[39;00m e:\n\u001b[0;32m    631\u001b[0m     \u001b[38;5;28;01myield\u001b[39;00m ErrorMessage(\u001b[38;5;28;01mNone\u001b[39;00m, \u001b[38;5;124mf\u001b[39m\u001b[38;5;124m\"\u001b[39m\u001b[38;5;124mError loading \u001b[39m\u001b[38;5;132;01m{\u001b[39;00minfo_or_id\u001b[38;5;132;01m}\u001b[39;00m\u001b[38;5;124m: \u001b[39m\u001b[38;5;132;01m{\u001b[39;00me\u001b[38;5;132;01m}\u001b[39;00m\u001b[38;5;124m\"\u001b[39m)\n",
      "File \u001b[1;32m~\\anaconda3\\Lib\\site-packages\\nltk\\downloader.py:603\u001b[0m, in \u001b[0;36mDownloader._info_or_id\u001b[1;34m(self, info_or_id)\u001b[0m\n\u001b[0;32m    601\u001b[0m \u001b[38;5;28;01mdef\u001b[39;00m \u001b[38;5;21m_info_or_id\u001b[39m(\u001b[38;5;28mself\u001b[39m, info_or_id):\n\u001b[0;32m    602\u001b[0m     \u001b[38;5;28;01mif\u001b[39;00m \u001b[38;5;28misinstance\u001b[39m(info_or_id, \u001b[38;5;28mstr\u001b[39m):\n\u001b[1;32m--> 603\u001b[0m         \u001b[38;5;28;01mreturn\u001b[39;00m \u001b[38;5;28mself\u001b[39m\u001b[38;5;241m.\u001b[39minfo(info_or_id)\n\u001b[0;32m    604\u001b[0m     \u001b[38;5;28;01melse\u001b[39;00m:\n\u001b[0;32m    605\u001b[0m         \u001b[38;5;28;01mreturn\u001b[39;00m info_or_id\n",
      "File \u001b[1;32m~\\anaconda3\\Lib\\site-packages\\nltk\\downloader.py:1009\u001b[0m, in \u001b[0;36mDownloader.info\u001b[1;34m(self, id)\u001b[0m\n\u001b[0;32m   1006\u001b[0m \u001b[38;5;28;01mdef\u001b[39;00m \u001b[38;5;21minfo\u001b[39m(\u001b[38;5;28mself\u001b[39m, \u001b[38;5;28mid\u001b[39m):\n\u001b[0;32m   1007\u001b[0m \u001b[38;5;250m    \u001b[39m\u001b[38;5;124;03m\"\"\"Return the ``Package`` or ``Collection`` record for the\u001b[39;00m\n\u001b[0;32m   1008\u001b[0m \u001b[38;5;124;03m    given item.\"\"\"\u001b[39;00m\n\u001b[1;32m-> 1009\u001b[0m     \u001b[38;5;28mself\u001b[39m\u001b[38;5;241m.\u001b[39m_update_index()\n\u001b[0;32m   1010\u001b[0m     \u001b[38;5;28;01mif\u001b[39;00m \u001b[38;5;28mid\u001b[39m \u001b[38;5;129;01min\u001b[39;00m \u001b[38;5;28mself\u001b[39m\u001b[38;5;241m.\u001b[39m_packages:\n\u001b[0;32m   1011\u001b[0m         \u001b[38;5;28;01mreturn\u001b[39;00m \u001b[38;5;28mself\u001b[39m\u001b[38;5;241m.\u001b[39m_packages[\u001b[38;5;28mid\u001b[39m]\n",
      "File \u001b[1;32m~\\anaconda3\\Lib\\site-packages\\nltk\\downloader.py:951\u001b[0m, in \u001b[0;36mDownloader._update_index\u001b[1;34m(self, url)\u001b[0m\n\u001b[0;32m    948\u001b[0m \u001b[38;5;28mself\u001b[39m\u001b[38;5;241m.\u001b[39m_url \u001b[38;5;241m=\u001b[39m url \u001b[38;5;129;01mor\u001b[39;00m \u001b[38;5;28mself\u001b[39m\u001b[38;5;241m.\u001b[39m_url\n\u001b[0;32m    950\u001b[0m \u001b[38;5;66;03m# Download the index file.\u001b[39;00m\n\u001b[1;32m--> 951\u001b[0m \u001b[38;5;28mself\u001b[39m\u001b[38;5;241m.\u001b[39m_index \u001b[38;5;241m=\u001b[39m nltk\u001b[38;5;241m.\u001b[39minternals\u001b[38;5;241m.\u001b[39mElementWrapper(\n\u001b[0;32m    952\u001b[0m     ElementTree\u001b[38;5;241m.\u001b[39mparse(urlopen(\u001b[38;5;28mself\u001b[39m\u001b[38;5;241m.\u001b[39m_url))\u001b[38;5;241m.\u001b[39mgetroot()\n\u001b[0;32m    953\u001b[0m )\n\u001b[0;32m    954\u001b[0m \u001b[38;5;28mself\u001b[39m\u001b[38;5;241m.\u001b[39m_index_timestamp \u001b[38;5;241m=\u001b[39m time\u001b[38;5;241m.\u001b[39mtime()\n\u001b[0;32m    956\u001b[0m \u001b[38;5;66;03m# Build a dictionary of packages.\u001b[39;00m\n",
      "\u001b[1;31mAttributeError\u001b[0m: module 'nltk' has no attribute 'internals'"
     ]
    }
   ],
   "source": [
    "from nltk.tokenize import sent_tokenize\n",
    "import nltk\n",
    "nltk.download('punkt')"
   ]
  },
  {
   "cell_type": "code",
   "execution_count": null,
   "metadata": {},
   "outputs": [],
   "source": [
    "sent_tokenize(\"Dr. Strange loves pav bhaji of mumbai. Hulk loves chat of delhi\")"
   ]
  },
  {
   "cell_type": "code",
   "execution_count": null,
   "metadata": {},
   "outputs": [],
   "source": [
    "from nltk.tokenize import word_tokenize"
   ]
  },
  {
   "cell_type": "code",
   "execution_count": null,
   "metadata": {
    "scrolled": true
   },
   "outputs": [],
   "source": [
    "word_tokenize(\"Dr. Strange loves pav bhaji of mumbai. Hulk loves chat of delhi\")"
   ]
  },
  {
   "cell_type": "markdown",
   "metadata": {},
   "source": [
    "**From above code you can see that Spacy is object oriented whereas NLTK is a string processing library**"
   ]
  }
 ],
 "metadata": {
  "kernelspec": {
   "display_name": "Python 3 (ipykernel)",
   "language": "python",
   "name": "python3"
  },
  "language_info": {
   "codemirror_mode": {
    "name": "ipython",
    "version": 3
   },
   "file_extension": ".py",
   "mimetype": "text/x-python",
   "name": "python",
   "nbconvert_exporter": "python",
   "pygments_lexer": "ipython3",
   "version": "3.11.5"
  }
 },
 "nbformat": 4,
 "nbformat_minor": 4
}
