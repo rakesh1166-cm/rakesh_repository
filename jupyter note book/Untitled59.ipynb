{
 "cells": [
  {
   "cell_type": "code",
   "execution_count": 2,
   "id": "dafd90ed",
   "metadata": {},
   "outputs": [
    {
     "name": "stdout",
     "output_type": "stream",
     "text": [
      "Batch (tokenized): [[ 6 18  7 11  0  0]\n",
      " [ 2  5 19 21 13  4]]\n",
      "Labels: [0 1]\n",
      "Batch (tokenized): [[12 15  9  5 20  0]\n",
      " [16 14 23 22  4  3]]\n",
      "Labels: [0 1]\n",
      "Batch (tokenized): [[ 2 17  8 10  3]]\n",
      "Labels: [1]\n"
     ]
    }
   ],
   "source": [
    "import tensorflow as tf\n",
    "\n",
    "# Example dataset: List of sentences and corresponding labels\n",
    "sentences = [\n",
    "    \"TensorFlow is great for machine learning\",\n",
    "    \"Natural language processing is fun\",\n",
    "    \"I love creating deep learning models\",\n",
    "    \"Transformers have revolutionized NLP\",\n",
    "    \"TensorFlow Hub provides pre-trained models\"\n",
    "]\n",
    "labels = [1, 0, 1, 0, 1]  # Example binary labels\n",
    "\n",
    "# Create a tf.data Dataset from sentences and labels\n",
    "data = tf.data.Dataset.from_tensor_slices((sentences, labels))\n",
    "\n",
    "# Text vectorization layer to tokenize and convert text to sequences\n",
    "vectorizer = tf.keras.layers.TextVectorization(output_mode='int', max_tokens=1000)\n",
    "vectorizer.adapt(sentences)  # Fit the vectorizer on the data\n",
    "\n",
    "# Pipeline: Shuffle, batch, tokenize, and prefetch\n",
    "pipeline = (\n",
    "    data\n",
    "    .shuffle(buffer_size=5)  # Shuffle the sentences\n",
    "    .batch(2)                # Batch data in groups of 2\n",
    "    .map(lambda x, y: (vectorizer(x), y))  # Tokenize sentences\n",
    "    .prefetch(buffer_size=tf.data.AUTOTUNE)  # Prefetch for efficiency\n",
    ")\n",
    "\n",
    "# Print the output from each batch\n",
    "for batch, labels in pipeline:\n",
    "    print(\"Batch (tokenized):\", batch.numpy())\n",
    "    print(\"Labels:\", labels.numpy())"
   ]
  },
  {
   "cell_type": "code",
   "execution_count": 3,
   "id": "44e64111",
   "metadata": {},
   "outputs": [
    {
     "data": {
      "text/plain": [
       "<_TensorSliceDataset element_spec=(TensorSpec(shape=(), dtype=tf.string, name=None), TensorSpec(shape=(), dtype=tf.int32, name=None))>"
      ]
     },
     "execution_count": 3,
     "metadata": {},
     "output_type": "execute_result"
    }
   ],
   "source": [
    "import tensorflow as tf\n",
    "\n",
    "# Example dataset: List of sentences and corresponding labels\n",
    "sentences = [\n",
    "    \"TensorFlow is great for machine learning\",\n",
    "    \"Natural language processing is fun\",\n",
    "    \"I love creating deep learning models\",\n",
    "    \"Transformers have revolutionized NLP\",\n",
    "    \"TensorFlow Hub provides pre-trained models\"\n",
    "]\n",
    "labels = [1, 0, 1, 0, 1]  # Example binary labels\n",
    "\n",
    "# Create a tf.data Dataset from sentences and labels\n",
    "data = tf.data.Dataset.from_tensor_slices((sentences, labels))\n",
    "data"
   ]
  },
  {
   "cell_type": "code",
   "execution_count": 4,
   "id": "2ab7e0f7",
   "metadata": {},
   "outputs": [
    {
     "data": {
      "text/plain": [
       "<TextVectorization name=text_vectorization_2, built=False>"
      ]
     },
     "execution_count": 4,
     "metadata": {},
     "output_type": "execute_result"
    }
   ],
   "source": [
    "vectorizer = tf.keras.layers.TextVectorization(output_mode='int', max_tokens=1000)\n",
    "vectorizer.adapt(sentences)  # Fit the vectorizer on the data\n",
    "vectorizer"
   ]
  },
  {
   "cell_type": "code",
   "execution_count": 5,
   "id": "0d608aab",
   "metadata": {},
   "outputs": [
    {
     "data": {
      "text/plain": [
       "<_PrefetchDataset element_spec=(TensorSpec(shape=(None, None), dtype=tf.int64, name=None), TensorSpec(shape=(None,), dtype=tf.int32, name=None))>"
      ]
     },
     "execution_count": 5,
     "metadata": {},
     "output_type": "execute_result"
    }
   ],
   "source": [
    "# Pipeline: Shuffle, batch, tokenize, and prefetch\n",
    "pipeline = (\n",
    "    data\n",
    "    .shuffle(buffer_size=5)  # Shuffle the sentences\n",
    "    .batch(2)                # Batch data in groups of 2\n",
    "    .map(lambda x, y: (vectorizer(x), y))  # Tokenize sentences\n",
    "    .prefetch(buffer_size=tf.data.AUTOTUNE)  # Prefetch for efficiency\n",
    ")\n",
    "pipeline"
   ]
  },
  {
   "cell_type": "code",
   "execution_count": 1,
   "id": "5d500070",
   "metadata": {},
   "outputs": [
    {
     "name": "stdout",
     "output_type": "stream",
     "text": [
      "[ 62 198  24  30 148  44  12  72 164 118]\n",
      "[150  46 172  80   8  90  64   4 138 192]\n",
      "[ 40  22 102 196  18  78  82  88 176  54]\n",
      "[ 36 106 180  58  14 158 130 162 146  66]\n",
      "[170 194  94 110 116 122  34 184  16 108]\n",
      "[132  20 190  92  38   0  26 128  52  74]\n",
      "[ 98 182  56 100  76  28 174 152 166 160]\n",
      "[ 96 120   6 144  84 112 188  10 168 156]\n",
      "[ 50  68  70 104  48  60 142  42 134 154]\n",
      "[114 124 136 178  86 126   2  32 140 186]\n"
     ]
    }
   ],
   "source": [
    "import tensorflow as tf\n",
    "\n",
    "# Simulate a dataset of integers from 0 to 99\n",
    "data = tf.data.Dataset.range(100)\n",
    "\n",
    "# Shuffle, batch, and map transformations\n",
    "pipeline = (\n",
    "    data\n",
    "    .shuffle(buffer_size=100)  # Randomize the data\n",
    "    .batch(10)                 # Batch in groups of 10\n",
    "    .map(lambda x: x * 2)      # Multiply each element by 2\n",
    "    .prefetch(buffer_size=tf.data.AUTOTUNE)  # Prefetch for efficiency\n",
    ")\n",
    "\n",
    "# Print the output from each batch\n",
    "for batch in pipeline:\n",
    "    print(batch.numpy())"
   ]
  },
  {
   "cell_type": "code",
   "execution_count": 2,
   "id": "c80048b3",
   "metadata": {},
   "outputs": [
    {
     "name": "stdout",
     "output_type": "stream",
     "text": [
      "Sentence: TensorFlow is great for machine learning\n",
      "Label: 1\n",
      "Sentence: Natural language processing is fun\n",
      "Label: 0\n",
      "Sentence: I love creating deep learning models\n",
      "Label: 1\n",
      "Sentence: Transformers have revolutionized NLP\n",
      "Label: 0\n",
      "Sentence: TensorFlow Hub provides pre-trained models\n",
      "Label: 1\n"
     ]
    }
   ],
   "source": [
    "sentences = [\n",
    "    \"TensorFlow is great for machine learning\",\n",
    "    \"Natural language processing is fun\",\n",
    "    \"I love creating deep learning models\",\n",
    "    \"Transformers have revolutionized NLP\",\n",
    "    \"TensorFlow Hub provides pre-trained models\"\n",
    "]\n",
    "labels = [1, 0, 1, 0, 1]  # Example binary labels\n",
    "\n",
    "# Create a tf.data Dataset from sentences and labels\n",
    "data = tf.data.Dataset.from_tensor_slices((sentences, labels))\n",
    "for sentence, label in data:\n",
    "    print(\"Sentence:\", sentence.numpy().decode('utf-8'))\n",
    "    print(\"Label:\", label.numpy())"
   ]
  },
  {
   "cell_type": "code",
   "execution_count": null,
   "id": "f0b4d635",
   "metadata": {},
   "outputs": [],
   "source": []
  }
 ],
 "metadata": {
  "kernelspec": {
   "display_name": "Python 3 (ipykernel)",
   "language": "python",
   "name": "python3"
  },
  "language_info": {
   "codemirror_mode": {
    "name": "ipython",
    "version": 3
   },
   "file_extension": ".py",
   "mimetype": "text/x-python",
   "name": "python",
   "nbconvert_exporter": "python",
   "pygments_lexer": "ipython3",
   "version": "3.11.5"
  }
 },
 "nbformat": 4,
 "nbformat_minor": 5
}
