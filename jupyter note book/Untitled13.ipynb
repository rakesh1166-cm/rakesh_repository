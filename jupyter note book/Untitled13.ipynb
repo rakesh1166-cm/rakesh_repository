{
 "cells": [
  {
   "cell_type": "code",
   "execution_count": 1,
   "id": "43d6a72b",
   "metadata": {},
   "outputs": [
    {
     "name": "stdout",
     "output_type": "stream",
     "text": [
      "C:\\Users\\rakes\n"
     ]
    }
   ],
   "source": [
    "import os\n",
    "print(os.getcwd())\n"
   ]
  },
  {
   "cell_type": "code",
   "execution_count": 2,
   "id": "59ee0a14",
   "metadata": {},
   "outputs": [
    {
     "name": "stdout",
     "output_type": "stream",
     "text": [
      "Notebook File Path: C:\\Users\\rakes\\webscrapping.ipynb\n"
     ]
    }
   ],
   "source": [
    "import os\n",
    "\n",
    "# Get the current working directory\n",
    "current_directory = os.getcwd()\n",
    "\n",
    "# Combine it with the notebook filename\n",
    "notebook_filename = \"webscrapping.ipynb\"\n",
    "notebook_path = os.path.join(current_directory, notebook_filename)\n",
    "\n",
    "print(\"Notebook File Path:\", notebook_path)"
   ]
  },
  {
   "cell_type": "code",
   "execution_count": null,
   "id": "f0ace86b",
   "metadata": {},
   "outputs": [],
   "source": []
  }
 ],
 "metadata": {
  "kernelspec": {
   "display_name": "Python 3 (ipykernel)",
   "language": "python",
   "name": "python3"
  },
  "language_info": {
   "codemirror_mode": {
    "name": "ipython",
    "version": 3
   },
   "file_extension": ".py",
   "mimetype": "text/x-python",
   "name": "python",
   "nbconvert_exporter": "python",
   "pygments_lexer": "ipython3",
   "version": "3.11.5"
  }
 },
 "nbformat": 4,
 "nbformat_minor": 5
}
