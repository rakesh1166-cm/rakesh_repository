{
 "cells": [
  {
   "cell_type": "code",
   "execution_count": 3,
   "id": "7b7b2a32",
   "metadata": {},
   "outputs": [
    {
     "name": "stdout",
     "output_type": "stream",
     "text": [
      "Original Words: ['This', 'is', 'an', 'example', 'sentence', 'that', 'we', 'will', 'tokenize', 'and', 'remove', 'stop', 'words', 'from', '.']\n",
      "Filtered Words: ['This is an example sentence that we will tokenize and remove stop words from.']\n"
     ]
    },
    {
     "name": "stderr",
     "output_type": "stream",
     "text": [
      "[nltk_data] Downloading package stopwords to\n",
      "[nltk_data]     C:\\Users\\rakes\\AppData\\Roaming\\nltk_data...\n",
      "[nltk_data]   Package stopwords is already up-to-date!\n",
      "[nltk_data] Downloading package punkt to\n",
      "[nltk_data]     C:\\Users\\rakes\\AppData\\Roaming\\nltk_data...\n",
      "[nltk_data]   Package punkt is already up-to-date!\n"
     ]
    }
   ],
   "source": [
    "import nltk\n",
    "from nltk.corpus import stopwords\n",
    "from nltk.tokenize import word_tokenize,sent_tokenize\n",
    "\n",
    "# Download the nltk stopwords dataset\n",
    "nltk.download('stopwords')\n",
    "nltk.download('punkt')\n",
    "\n",
    "# Sample text\n",
    "text = \"This is an example sentence that we will tokenize and remove stop words from.\"\n",
    "\n",
    "# Tokenize the words\n",
    "words = word_tokenize(text)\n",
    "sents = sent_tokenize(text)\n",
    "\n",
    "print(\"Original Words:\", words)\n",
    "print(\"Filtered Words:\", sents)"
   ]
  },
  {
   "cell_type": "code",
   "execution_count": 4,
   "id": "8f02d79e",
   "metadata": {},
   "outputs": [
    {
     "name": "stdout",
     "output_type": "stream",
     "text": [
      "Original Words: ['This', 'is', 'an', 'example', 'sentence', 'that', 'we', 'will', 'tokenize', 'and', 'remove', 'stop', 'words', 'from', '.']\n",
      "Original Words: {'hasn', 'as', 's', 'if', 'is', 'wouldn', 'shouldn', 'which', \"haven't\", 'o', 'weren', 'then', 'were', 'are', 'm', 've', 'a', 'on', 'than', 'no', 'just', \"should've\", \"don't\", \"isn't\", 'up', 'once', 'mightn', 'we', \"aren't\", 'needn', \"shouldn't\", 'each', 'other', 'only', 'his', 'has', 'mustn', \"wasn't\", 'doing', 'ourselves', 'with', 'such', 'd', 'me', 'them', 'too', 'an', 'same', 'the', 'until', 'him', \"won't\", 'through', 'off', 'in', 'again', 'above', 'won', 'yourselves', 'do', 'it', 'll', 'himself', \"needn't\", 'by', \"it's\", 'he', 'her', 'your', 'those', \"you've\", 'ma', 'being', 'ain', 'she', 'hadn', 'nor', \"doesn't\", 'both', \"you'd\", 'am', 'against', 'about', 'have', 'while', 'of', \"hasn't\", 'from', 'more', 'what', 'herself', 'will', 'that', 'there', 'having', 'wasn', 'hers', 'before', 'most', \"couldn't\", 'this', 'after', 'they', \"shan't\", 'myself', 'doesn', 'did', 'own', 't', \"didn't\", 'some', 'itself', 'was', 'these', 'don', 'be', 'didn', 'its', 'between', \"you're\", 'now', \"you'll\", 'and', 'over', 'to', 'why', 'few', 'aren', 're', \"wouldn't\", 'theirs', 'yours', \"that'll\", 'because', 'under', 'so', 'who', 'but', \"weren't\", 'i', 'our', 'for', \"hadn't\", 'during', 'does', 'at', 'should', 'or', \"she's\", 'any', 'couldn', 'down', 'how', 'their', 'all', \"mustn't\", 'not', 'out', 'had', 'been', 'when', 'themselves', 'haven', 'you', 'where', 'isn', 'here', 'whom', 'can', 'my', 'shan', 'yourself', 'very', 'into', 'below', \"mightn't\", 'further', 'ours', 'y'}\n",
      "Filtered Words: ['example', 'sentence', 'tokenize', 'remove', 'stop', 'words', '.']\n"
     ]
    },
    {
     "name": "stderr",
     "output_type": "stream",
     "text": [
      "[nltk_data] Downloading package stopwords to\n",
      "[nltk_data]     C:\\Users\\rakes\\AppData\\Roaming\\nltk_data...\n",
      "[nltk_data]   Package stopwords is already up-to-date!\n",
      "[nltk_data] Downloading package punkt to\n",
      "[nltk_data]     C:\\Users\\rakes\\AppData\\Roaming\\nltk_data...\n",
      "[nltk_data]   Package punkt is already up-to-date!\n"
     ]
    }
   ],
   "source": [
    "import nltk\n",
    "from nltk.corpus import stopwords\n",
    "from nltk.tokenize import word_tokenize\n",
    "\n",
    "# Download the nltk stopwords dataset\n",
    "nltk.download('stopwords')\n",
    "nltk.download('punkt')\n",
    "\n",
    "# Sample text\n",
    "text = \"This is an example sentence that we will tokenize and remove stop words from.\"\n",
    "\n",
    "# Tokenize the words\n",
    "words = word_tokenize(text)\n",
    "\n",
    "# Get English stop words\n",
    "stop_words = set(stopwords.words('english'))\n",
    "\n",
    "# Remove stop words\n",
    "filtered_words = [word for word in words if word.lower() not in stop_words]\n",
    "\n",
    "# Print the original and filtered words\n",
    "print(\"Original Words:\", words)\n",
    "print(\"Original Words:\", stop_words)\n",
    "print(\"Filtered Words:\", filtered_words)"
   ]
  },
  {
   "cell_type": "code",
   "execution_count": 5,
   "id": "7ed8645b",
   "metadata": {},
   "outputs": [
    {
     "name": "stdout",
     "output_type": "stream",
     "text": [
      "Original Words: ['This', 'is', 'an', 'example', 'sentence', 'that', 'we', 'will', 'tokenize', ',', 'remove', 'stop', 'words', ',', 'and', 'perform', 'stemming', 'on', '.']\n",
      "Filtered Words: ['example', 'sentence', 'tokenize', ',', 'remove', 'stop', 'words', ',', 'perform', 'stemming', '.']\n",
      "Stemmed Words: ['exampl', 'sentenc', 'token', ',', 'remov', 'stop', 'word', ',', 'perform', 'stem', '.']\n"
     ]
    },
    {
     "name": "stderr",
     "output_type": "stream",
     "text": [
      "[nltk_data] Downloading package stopwords to\n",
      "[nltk_data]     C:\\Users\\rakes\\AppData\\Roaming\\nltk_data...\n",
      "[nltk_data]   Package stopwords is already up-to-date!\n",
      "[nltk_data] Downloading package punkt to\n",
      "[nltk_data]     C:\\Users\\rakes\\AppData\\Roaming\\nltk_data...\n",
      "[nltk_data]   Package punkt is already up-to-date!\n"
     ]
    }
   ],
   "source": [
    "import nltk\n",
    "from nltk.corpus import stopwords\n",
    "from nltk.tokenize import word_tokenize\n",
    "from nltk.stem import PorterStemmer\n",
    "\n",
    "# Download the nltk stopwords dataset\n",
    "nltk.download('stopwords')\n",
    "nltk.download('punkt')\n",
    "\n",
    "# Sample text\n",
    "text = \"This is an example sentence that we will tokenize, remove stop words, and perform stemming on.\"\n",
    "\n",
    "# Tokenize the words\n",
    "words = word_tokenize(text)\n",
    "\n",
    "# Get English stop words\n",
    "stop_words = set(stopwords.words('english'))\n",
    "\n",
    "# Remove stop words\n",
    "filtered_words = [word for word in words if word.lower() not in stop_words]\n",
    "\n",
    "# Initialize the Porter Stemmer\n",
    "porter_stemmer = PorterStemmer()\n",
    "\n",
    "# Perform stemming\n",
    "stemmed_words = [porter_stemmer.stem(word) for word in filtered_words]\n",
    "\n",
    "# Print the original, filtered, and stemmed words\n",
    "print(\"Original Words:\", words)\n",
    "print(\"Filtered Words:\", filtered_words)\n",
    "print(\"Stemmed Words:\", stemmed_words)"
   ]
  },
  {
   "cell_type": "code",
   "execution_count": null,
   "id": "f741819d",
   "metadata": {},
   "outputs": [],
   "source": []
  }
 ],
 "metadata": {
  "kernelspec": {
   "display_name": "Python 3 (ipykernel)",
   "language": "python",
   "name": "python3"
  },
  "language_info": {
   "codemirror_mode": {
    "name": "ipython",
    "version": 3
   },
   "file_extension": ".py",
   "mimetype": "text/x-python",
   "name": "python",
   "nbconvert_exporter": "python",
   "pygments_lexer": "ipython3",
   "version": "3.11.5"
  }
 },
 "nbformat": 4,
 "nbformat_minor": 5
}
