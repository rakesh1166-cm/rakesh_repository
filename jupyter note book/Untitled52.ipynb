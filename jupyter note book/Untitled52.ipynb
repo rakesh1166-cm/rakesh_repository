{
 "cells": [
  {
   "cell_type": "code",
   "execution_count": 3,
   "id": "9cb7636f",
   "metadata": {},
   "outputs": [
    {
     "name": "stdout",
     "output_type": "stream",
     "text": [
      "Collecting imutils\n",
      "  Downloading imutils-0.5.4.tar.gz (17 kB)\n",
      "  Preparing metadata (setup.py): started\n",
      "  Preparing metadata (setup.py): finished with status 'done'\n",
      "Building wheels for collected packages: imutils\n",
      "  Building wheel for imutils (setup.py): started\n",
      "  Building wheel for imutils (setup.py): finished with status 'done'\n",
      "  Created wheel for imutils: filename=imutils-0.5.4-py3-none-any.whl size=25854 sha256=df94ecdd99f1ef182cb06188f73ac3024a71a5b0f6ec16080034d4054abb04f2\n",
      "  Stored in directory: c:\\users\\rakes\\appdata\\local\\pip\\cache\\wheels\\31\\d0\\2c\\87ce38f6052879e5b7b18f0f8b4a10ad2a9d210e908d449f16\n",
      "Successfully built imutils\n",
      "Installing collected packages: imutils\n",
      "Successfully installed imutils-0.5.4\n"
     ]
    }
   ],
   "source": [
    "!pip install imutils"
   ]
  },
  {
   "cell_type": "code",
   "execution_count": 4,
   "id": "e42cdbfb",
   "metadata": {},
   "outputs": [],
   "source": [
    "# import the necessary packages\n",
    "from skimage.metrics import structural_similarity\n",
    "import imutils\n",
    "import cv2\n",
    "from PIL import Image\n",
    "import requests"
   ]
  },
  {
   "cell_type": "code",
   "execution_count": 6,
   "id": "8868e6fd",
   "metadata": {},
   "outputs": [],
   "source": [
    "import os\n",
    "\n",
    "# Create the main directory\n",
    "os.makedirs('pan_card_tampering/image', exist_ok=True)"
   ]
  },
  {
   "cell_type": "code",
   "execution_count": 8,
   "id": "2280a620",
   "metadata": {},
   "outputs": [],
   "source": [
    "original = Image.open(requests.get('https://www.thestatesman.com/wp-content/uploads/2019/07/pan-card.jpg', stream=True).raw)\n",
    "tampered = Image.open(requests.get('https://assets1.cleartax-cdn.com/s/img/20170526124335/Pan4.png', stream=True).raw) "
   ]
  },
  {
   "cell_type": "code",
   "execution_count": 9,
   "id": "9d33541c",
   "metadata": {},
   "outputs": [],
   "source": [
    "#### Loading original and user provided images"
   ]
  },
  {
   "cell_type": "code",
   "execution_count": 10,
   "id": "cda96dc9",
   "metadata": {},
   "outputs": [
    {
     "name": "stdout",
     "output_type": "stream",
     "text": [
      "Original image format :  JPEG\n",
      "Tampered image format :  PNG\n",
      "Original image size :  (1200, 800)\n",
      "Tampered image size :  (282, 179)\n"
     ]
    }
   ],
   "source": [
    "# The file format of the source file.\n",
    "print(\"Original image format : \",original.format) \n",
    "print(\"Tampered image format : \",tampered.format)\n",
    "\n",
    "# Image size, in pixels. The size is given as a 2-tuple (width, height).\n",
    "print(\"Original image size : \",original.size) \n",
    "print(\"Tampered image size : \",tampered.size) "
   ]
  },
  {
   "cell_type": "code",
   "execution_count": 11,
   "id": "99eab5fe",
   "metadata": {},
   "outputs": [],
   "source": [
    "#### Converting the format of  tampered image similar to original image."
   ]
  },
  {
   "cell_type": "code",
   "execution_count": 12,
   "id": "2c06d6bf",
   "metadata": {},
   "outputs": [
    {
     "name": "stdout",
     "output_type": "stream",
     "text": [
      "(250, 160)\n",
      "(250, 160)\n"
     ]
    }
   ],
   "source": [
    "# Resize Image\n",
    "original = original.resize((250, 160))\n",
    "print(original.size)\n",
    "original.save('pan_card_tampering/image/original.png')#Save image\n",
    "tampered = tampered.resize((250,160))\n",
    "print(tampered.size)\n",
    "tampered.save('pan_card_tampering/image/tampered.png')#Saves image"
   ]
  },
  {
   "cell_type": "code",
   "execution_count": 13,
   "id": "d6df21cf",
   "metadata": {},
   "outputs": [],
   "source": [
    "####  Here, we checked the format and size of the original and tampered image."
   ]
  },
  {
   "cell_type": "code",
   "execution_count": 14,
   "id": "ad30df96",
   "metadata": {},
   "outputs": [],
   "source": [
    "# Change image type if required from png to jpg\n",
    "tampered = Image.open('pan_card_tampering/image/tampered.png')\n",
    "tampered.save('pan_card_tampering/image/tampered.png')#can do png to jpg"
   ]
  },
  {
   "cell_type": "code",
   "execution_count": null,
   "id": "003e5a0b",
   "metadata": {},
   "outputs": [],
   "source": []
  }
 ],
 "metadata": {
  "kernelspec": {
   "display_name": "Python 3 (ipykernel)",
   "language": "python",
   "name": "python3"
  },
  "language_info": {
   "codemirror_mode": {
    "name": "ipython",
    "version": 3
   },
   "file_extension": ".py",
   "mimetype": "text/x-python",
   "name": "python",
   "nbconvert_exporter": "python",
   "pygments_lexer": "ipython3",
   "version": "3.11.5"
  }
 },
 "nbformat": 4,
 "nbformat_minor": 5
}
