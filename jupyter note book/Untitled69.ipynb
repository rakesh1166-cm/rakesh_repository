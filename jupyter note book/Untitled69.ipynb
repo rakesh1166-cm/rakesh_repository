{
 "cells": [
  {
   "cell_type": "code",
   "execution_count": 1,
   "id": "bfe0c08f",
   "metadata": {},
   "outputs": [],
   "source": [
    "simple_list = [\"john\", \"doe\", \"sourav\", \"rahul\", \"alex\", \"sourav\", \"michael\", \"jordan\", \"sourav\", \"kohli\"]"
   ]
  },
  {
   "cell_type": "code",
   "execution_count": null,
   "id": "870cb7ad",
   "metadata": {},
   "outputs": [],
   "source": []
  },
  {
   "cell_type": "code",
   "execution_count": 4,
   "id": "a9f8413e",
   "metadata": {},
   "outputs": [
    {
     "name": "stdout",
     "output_type": "stream",
     "text": [
      "john doe sourav rahul alex sourav michael jordan sourav kohli\n",
      "['sourav', 'sourav', 'sourav']\n"
     ]
    }
   ],
   "source": [
    "import re\n",
    "\n",
    "# Join the list into a single string\n",
    "joined_string = \" \".join(simple_list)\n",
    "print(joined_string)\n",
    "# Use re.findall to extract all occurrences of \"sourav\"\n",
    "new_list = re.findall(r'\\bsourav\\b', joined_string)\n",
    "\n",
    "print(new_list)"
   ]
  },
  {
   "cell_type": "code",
   "execution_count": null,
   "id": "7900b922",
   "metadata": {},
   "outputs": [],
   "source": []
  }
 ],
 "metadata": {
  "kernelspec": {
   "display_name": "Python 3 (ipykernel)",
   "language": "python",
   "name": "python3"
  },
  "language_info": {
   "codemirror_mode": {
    "name": "ipython",
    "version": 3
   },
   "file_extension": ".py",
   "mimetype": "text/x-python",
   "name": "python",
   "nbconvert_exporter": "python",
   "pygments_lexer": "ipython3",
   "version": "3.11.5"
  }
 },
 "nbformat": 4,
 "nbformat_minor": 5
}
