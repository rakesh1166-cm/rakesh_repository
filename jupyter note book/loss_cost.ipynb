{
 "cells": [
  {
   "cell_type": "markdown",
   "id": "33218425",
   "metadata": {},
   "source": [
    "using zip method calculate mae,mse and log loss.\n",
    "\n",
    "using numpy method calculate mae and mse and log loss.\n"
   ]
  },
  {
   "cell_type": "code",
   "execution_count": 2,
   "id": "d3741ed2",
   "metadata": {},
   "outputs": [],
   "source": [
    "#Implement Mean Absolute Error\n",
    "#first iterate two array/list using zip\n",
    "#then subtract each element of first array with second element of each array then take sum\n",
    "#find mae\n",
    "#how to calculate total sum of difference of two array or list\n",
    "##Implement MAE same thing using numpy in much easier way\n",
    "#Implement Log Loss or Binary Cross Entropy\n",
    "#Clipping the y_predicted values (to avoid log(0))\n",
    "#Clipping the y_predicted_new values again (to avoid log(1))\n",
    "#After clipping the values, the modified predictions are converted into a NumPy array to allow for vectorized operations,\n",
    "#which makes the calculation of log loss more efficient.\n",
    "#using list comprhension how to calculate maximum of two value"
   ]
  },
  {
   "attachments": {
    "image.png": {
     "image/png": "[encoded data removed]"
    }
   },
   "cell_type": "markdown",
   "id": "3dc4c275",
   "metadata": {},
   "source": [
    "![image.png](attachment:image.png)"
   ]
  },
  {
   "cell_type": "code",
   "execution_count": 3,
   "id": "19762841",
   "metadata": {},
   "outputs": [],
   "source": [
    "import numpy as np"
   ]
  },
  {
   "cell_type": "code",
   "execution_count": 4,
   "id": "4cb1df08",
   "metadata": {},
   "outputs": [],
   "source": [
    "y_predicted = np.array([1,1,0,0,1])\n",
    "y_true = np.array([0.30,0.7,1,0,0.5])"
   ]
  },
  {
   "cell_type": "code",
   "execution_count": 5,
   "id": "ca30a9bf",
   "metadata": {},
   "outputs": [],
   "source": [
    "#Implement Mean Absolute Error"
   ]
  },
  {
   "cell_type": "code",
   "execution_count": 6,
   "id": "64d07991",
   "metadata": {},
   "outputs": [],
   "source": [
    "def mae(y_predicted, y_true):\n",
    "    total_error = 0\n",
    "    for yp, yt in zip(y_predicted, y_true):\n",
    "        total_error += abs(yp - yt)\n",
    "    print(\"Total error is:\",total_error)\n",
    "    mae = total_error/len(y_predicted)\n",
    "    print(\"Mean absolute error is:\",mae)\n",
    "    return mae"
   ]
  },
  {
   "cell_type": "code",
   "execution_count": 7,
   "id": "8c18f7c0",
   "metadata": {},
   "outputs": [],
   "source": [
    "def mae(y_predicted, y_true):\n",
    "    total_error = 0\n",
    "    for yp, yt in zip(y_predicted, y_true):\n",
    "        total_error += abs(yp - yt)\n",
    "    print(\"Total error is:\",total_error)\n",
    "    mae = total_error/len(y_predicted)\n",
    "    print(\"Mean absolute error is:\",mae)\n",
    "    return mae"
   ]
  },
  {
   "cell_type": "code",
   "execution_count": 8,
   "id": "53d5dba3",
   "metadata": {},
   "outputs": [
    {
     "name": "stdout",
     "output_type": "stream",
     "text": [
      "Total error is: 2.5\n",
      "Mean absolute error is: 0.5\n"
     ]
    },
    {
     "data": {
      "text/plain": [
       "0.5"
      ]
     },
     "execution_count": 8,
     "metadata": {},
     "output_type": "execute_result"
    }
   ],
   "source": [
    "\n",
    "mae(y_predicted, y_true)"
   ]
  },
  {
   "cell_type": "code",
   "execution_count": 9,
   "id": "7fc156c6",
   "metadata": {},
   "outputs": [],
   "source": [
    "#Implement same thing using numpy in much easier way\n"
   ]
  },
  {
   "cell_type": "code",
   "execution_count": 10,
   "id": "25134321",
   "metadata": {},
   "outputs": [
    {
     "data": {
      "text/plain": [
       "array([0.7, 0.3, 1. , 0. , 0.5])"
      ]
     },
     "execution_count": 10,
     "metadata": {},
     "output_type": "execute_result"
    }
   ],
   "source": [
    "np.abs(y_predicted-y_true)"
   ]
  },
  {
   "cell_type": "code",
   "execution_count": 11,
   "id": "47141389",
   "metadata": {},
   "outputs": [
    {
     "data": {
      "text/plain": [
       "0.5"
      ]
     },
     "execution_count": 11,
     "metadata": {},
     "output_type": "execute_result"
    }
   ],
   "source": [
    "np.mean(np.abs(y_predicted-y_true))"
   ]
  },
  {
   "cell_type": "code",
   "execution_count": 12,
   "id": "bf5a7183",
   "metadata": {},
   "outputs": [],
   "source": [
    "#Implement same thing using numpy in much easier way\n"
   ]
  },
  {
   "cell_type": "code",
   "execution_count": 13,
   "id": "9f0ff6cb",
   "metadata": {},
   "outputs": [
    {
     "data": {
      "text/plain": [
       "array([0.7, 0.3, 1. , 0. , 0.5])"
      ]
     },
     "execution_count": 13,
     "metadata": {},
     "output_type": "execute_result"
    }
   ],
   "source": [
    "\n",
    "np.abs(y_predicted-y_true)"
   ]
  },
  {
   "cell_type": "code",
   "execution_count": 14,
   "id": "e80e2a82",
   "metadata": {},
   "outputs": [
    {
     "data": {
      "text/plain": [
       "0.5"
      ]
     },
     "execution_count": 14,
     "metadata": {},
     "output_type": "execute_result"
    }
   ],
   "source": [
    "np.mean(np.abs(y_predicted-y_true))"
   ]
  },
  {
   "cell_type": "code",
   "execution_count": 15,
   "id": "7a634ede",
   "metadata": {},
   "outputs": [],
   "source": [
    "def mae_np(y_predicted, y_true):\n",
    "    return np.mean(np.abs(y_predicted-y_true))"
   ]
  },
  {
   "cell_type": "code",
   "execution_count": 16,
   "id": "1f086063",
   "metadata": {},
   "outputs": [
    {
     "data": {
      "text/plain": [
       "0.5"
      ]
     },
     "execution_count": 16,
     "metadata": {},
     "output_type": "execute_result"
    }
   ],
   "source": [
    "mae_np(y_predicted, y_true)"
   ]
  },
  {
   "cell_type": "code",
   "execution_count": 17,
   "id": "81bff51d",
   "metadata": {},
   "outputs": [],
   "source": [
    "#Implement Log Loss or Binary Cross Entropy"
   ]
  },
  {
   "cell_type": "code",
   "execution_count": 18,
   "id": "e4b836e3",
   "metadata": {},
   "outputs": [
    {
     "name": "stderr",
     "output_type": "stream",
     "text": [
      "C:\\Users\\rakes\\AppData\\Local\\Temp\\ipykernel_29388\\262464415.py:1: RuntimeWarning: divide by zero encountered in log\n",
      "  np.log([0])\n"
     ]
    },
    {
     "data": {
      "text/plain": [
       "array([-inf])"
      ]
     },
     "execution_count": 18,
     "metadata": {},
     "output_type": "execute_result"
    }
   ],
   "source": [
    "np.log([0])"
   ]
  },
  {
   "cell_type": "code",
   "execution_count": 19,
   "id": "5e048db6",
   "metadata": {},
   "outputs": [],
   "source": [
    "# that s why we use epsilon\n",
    "#epsilon is used to avoid taking the logarithm of zero, which leads to a division by zero error and results in -inf (negative infinity) \n",
    "#when computing the log. In binary cross-entropy (or log loss), "
   ]
  },
  {
   "cell_type": "code",
   "execution_count": 20,
   "id": "4a2debaa",
   "metadata": {},
   "outputs": [],
   "source": [
    "epsilon = 1e-15"
   ]
  },
  {
   "cell_type": "code",
   "execution_count": 21,
   "id": "96d166f9",
   "metadata": {},
   "outputs": [
    {
     "data": {
      "text/plain": [
       "array([-34.53877639])"
      ]
     },
     "execution_count": 21,
     "metadata": {},
     "output_type": "execute_result"
    }
   ],
   "source": [
    "np.log([1e-15])"
   ]
  },
  {
   "cell_type": "code",
   "execution_count": 22,
   "id": "c3da2165",
   "metadata": {},
   "outputs": [
    {
     "data": {
      "text/plain": [
       "array([1, 1, 0, 0, 1])"
      ]
     },
     "execution_count": 22,
     "metadata": {},
     "output_type": "execute_result"
    }
   ],
   "source": [
    "y_predicted"
   ]
  },
  {
   "cell_type": "code",
   "execution_count": 23,
   "id": "5ba1c4b2",
   "metadata": {},
   "outputs": [
    {
     "data": {
      "text/plain": [
       "[1, 1, 1e-15, 1e-15, 1]"
      ]
     },
     "execution_count": 23,
     "metadata": {},
     "output_type": "execute_result"
    }
   ],
   "source": [
    "#Clipping the y_predicted values (to avoid log(0))\n",
    "y_predicted_new = [max(i,epsilon) for i in y_predicted]\n",
    "y_predicted_new"
   ]
  },
  {
   "cell_type": "code",
   "execution_count": 24,
   "id": "1124d5da",
   "metadata": {},
   "outputs": [
    {
     "data": {
      "text/plain": [
       "0.999999999999999"
      ]
     },
     "execution_count": 24,
     "metadata": {},
     "output_type": "execute_result"
    }
   ],
   "source": [
    "1-epsilon"
   ]
  },
  {
   "cell_type": "code",
   "execution_count": 25,
   "id": "ba9a1071",
   "metadata": {},
   "outputs": [
    {
     "data": {
      "text/plain": [
       "[0.999999999999999, 0.999999999999999, 1e-15, 1e-15, 0.999999999999999]"
      ]
     },
     "execution_count": 25,
     "metadata": {},
     "output_type": "execute_result"
    }
   ],
   "source": [
    "#Clipping the y_predicted_new values again (to avoid log(1))\n",
    "y_predicted_new = [min(i,1-epsilon) for i in y_predicted_new]\n",
    "y_predicted_new"
   ]
  },
  {
   "cell_type": "code",
   "execution_count": 26,
   "id": "cb5ffef3",
   "metadata": {},
   "outputs": [
    {
     "data": {
      "text/plain": [
       "array([1.e+00, 1.e+00, 1.e-15, 1.e-15, 1.e+00])"
      ]
     },
     "execution_count": 26,
     "metadata": {},
     "output_type": "execute_result"
    }
   ],
   "source": [
    "#After clipping the values, the modified predictions are converted into a NumPy array to allow for vectorized operations,\n",
    "#which makes the calculation of log loss more efficient.\n",
    "y_predicted_new = np.array(y_predicted_new)\n",
    "y_predicted_new"
   ]
  },
  {
   "cell_type": "code",
   "execution_count": 27,
   "id": "57dd2514",
   "metadata": {},
   "outputs": [
    {
     "data": {
      "text/plain": [
       "array([-9.99200722e-16, -9.99200722e-16, -3.45387764e+01, -3.45387764e+01,\n",
       "       -9.99200722e-16])"
      ]
     },
     "execution_count": 27,
     "metadata": {},
     "output_type": "execute_result"
    }
   ],
   "source": [
    "\n",
    "np.log(y_predicted_new)"
   ]
  },
  {
   "cell_type": "code",
   "execution_count": 28,
   "id": "3d8f5fc2",
   "metadata": {},
   "outputs": [
    {
     "data": {
      "text/plain": [
       "17.2696280766844"
      ]
     },
     "execution_count": 28,
     "metadata": {},
     "output_type": "execute_result"
    }
   ],
   "source": [
    "-np.mean(y_true*np.log(y_predicted_new)+(1-y_true)*np.log(1-y_predicted_new))"
   ]
  },
  {
   "attachments": {
    "image-2.png": {
     "image/png": "[encoded data removed]"
    },
    "image.png": {
     "image/png": "[encoded data removed]"
    }
   },
   "cell_type": "markdown",
   "id": "55d5d9de",
   "metadata": {},
   "source": [
    "![image.png](attachment:image.png)\n",
    "\n",
    "![image-2.png](attachment:image-2.png)"
   ]
  },
  {
   "cell_type": "code",
   "execution_count": 29,
   "id": "8f24af44",
   "metadata": {},
   "outputs": [],
   "source": [
    "def log_loss(y_true, y_predicted):\n",
    "    y_predicted_new = [max(i,epsilon) for i in y_predicted]\n",
    "    y_predicted_new = [min(i,1-epsilon) for i in y_predicted_new]\n",
    "    print(y_predicted_new)\n",
    "    y_predicted_new = np.array(y_predicted_new)\n",
    "    print(y_predicted_new)\n",
    "    return -np.mean(y_true*np.log(y_predicted_new)+(1-y_true)*np.log(1-y_predicted_new))"
   ]
  },
  {
   "cell_type": "code",
   "execution_count": 30,
   "id": "020ad7a2",
   "metadata": {},
   "outputs": [
    {
     "name": "stdout",
     "output_type": "stream",
     "text": [
      "[0.999999999999999, 0.999999999999999, 1e-15, 1e-15, 0.999999999999999]\n",
      "[1.e+00 1.e+00 1.e-15 1.e-15 1.e+00]\n"
     ]
    },
    {
     "data": {
      "text/plain": [
       "17.2696280766844"
      ]
     },
     "execution_count": 30,
     "metadata": {},
     "output_type": "execute_result"
    }
   ],
   "source": [
    "log_loss(y_true, y_predicted)"
   ]
  },
  {
   "cell_type": "code",
   "execution_count": 31,
   "id": "77b5e492",
   "metadata": {},
   "outputs": [],
   "source": [
    "#Loss function exercise: Implement Mean Squared Error Function In Python"
   ]
  },
  {
   "cell_type": "code",
   "execution_count": 32,
   "id": "6256f0ce",
   "metadata": {},
   "outputs": [],
   "source": [
    "#Solution 1: Without using numpy"
   ]
  },
  {
   "cell_type": "code",
   "execution_count": 33,
   "id": "aa54099d",
   "metadata": {},
   "outputs": [],
   "source": [
    "import numpy as np\n",
    "\n",
    "y_predicted = np.array([1,1,0,0,1])\n",
    "y_true = np.array([0.30,0.7,1,0,0.5])"
   ]
  },
  {
   "cell_type": "code",
   "execution_count": 34,
   "id": "6bfe6810",
   "metadata": {},
   "outputs": [],
   "source": [
    "def mse(y_true, y_predicted):\n",
    "    total_error = 0\n",
    "    for yt, yp in zip(y_true, y_predicted):\n",
    "        total_error += (yt-yp)**2\n",
    "    print(\"Total Squared Error:\",total_error)\n",
    "    mse = total_error/len(y_true)\n",
    "    print(\"Mean Squared Error:\",mse)\n",
    "    return mse"
   ]
  },
  {
   "cell_type": "code",
   "execution_count": 35,
   "id": "b2daea64",
   "metadata": {},
   "outputs": [
    {
     "name": "stdout",
     "output_type": "stream",
     "text": [
      "Total Squared Error: 1.83\n",
      "Mean Squared Error: 0.366\n"
     ]
    },
    {
     "data": {
      "text/plain": [
       "0.366"
      ]
     },
     "execution_count": 35,
     "metadata": {},
     "output_type": "execute_result"
    }
   ],
   "source": [
    "mse(y_true, y_predicted)"
   ]
  },
  {
   "cell_type": "code",
   "execution_count": 36,
   "id": "ac0ca8bb",
   "metadata": {},
   "outputs": [],
   "source": [
    "#Solution 2: By using numpy"
   ]
  },
  {
   "cell_type": "code",
   "execution_count": 37,
   "id": "6074b95f",
   "metadata": {},
   "outputs": [
    {
     "data": {
      "text/plain": [
       "0.366"
      ]
     },
     "execution_count": 37,
     "metadata": {},
     "output_type": "execute_result"
    }
   ],
   "source": [
    "np.mean(np.square(y_true-y_predicted))"
   ]
  },
  {
   "cell_type": "code",
   "execution_count": null,
   "id": "b846b422",
   "metadata": {},
   "outputs": [],
   "source": []
  }
 ],
 "metadata": {
  "kernelspec": {
   "display_name": "Python 3 (ipykernel)",
   "language": "python",
   "name": "python3"
  },
  "language_info": {
   "codemirror_mode": {
    "name": "ipython",
    "version": 3
   },
   "file_extension": ".py",
   "mimetype": "text/x-python",
   "name": "python",
   "nbconvert_exporter": "python",
   "pygments_lexer": "ipython3",
   "version": "3.11.5"
  }
 },
 "nbformat": 4,
 "nbformat_minor": 5
}
