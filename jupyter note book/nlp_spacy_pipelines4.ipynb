{
 "cells": [
  {
   "cell_type": "markdown",
   "metadata": {},
   "source": [
    "<h2 align=\"center\">Spacy Language Processing Pipelines Tutorial</h2>"
   ]
  },
  {
   "cell_type": "markdown",
   "metadata": {},
   "source": [
    "<h3>Blank nlp pipeline</h3>"
   ]
  },
  {
   "cell_type": "code",
   "execution_count": 1,
   "metadata": {},
   "outputs": [
    {
     "name": "stdout",
     "output_type": "stream",
     "text": [
      "Requirement already satisfied: spacy in c:\\users\\rakes\\anaconda3\\lib\\site-packages (3.8.2)\n",
      "Requirement already satisfied: spacy-legacy<3.1.0,>=3.0.11 in c:\\users\\rakes\\anaconda3\\lib\\site-packages (from spacy) (3.0.12)\n",
      "Requirement already satisfied: spacy-loggers<2.0.0,>=1.0.0 in c:\\users\\rakes\\anaconda3\\lib\\site-packages (from spacy) (1.0.5)\n",
      "Requirement already satisfied: murmurhash<1.1.0,>=0.28.0 in c:\\users\\rakes\\anaconda3\\lib\\site-packages (from spacy) (1.0.10)\n",
      "Requirement already satisfied: cymem<2.1.0,>=2.0.2 in c:\\users\\rakes\\anaconda3\\lib\\site-packages (from spacy) (2.0.8)\n",
      "Requirement already satisfied: preshed<3.1.0,>=3.0.2 in c:\\users\\rakes\\anaconda3\\lib\\site-packages (from spacy) (3.0.9)\n",
      "Requirement already satisfied: thinc<8.4.0,>=8.3.0 in c:\\users\\rakes\\anaconda3\\lib\\site-packages (from spacy) (8.3.2)\n",
      "Requirement already satisfied: wasabi<1.2.0,>=0.9.1 in c:\\users\\rakes\\anaconda3\\lib\\site-packages (from spacy) (1.1.3)\n",
      "Requirement already satisfied: srsly<3.0.0,>=2.4.3 in c:\\users\\rakes\\anaconda3\\lib\\site-packages (from spacy) (2.4.8)\n",
      "Requirement already satisfied: catalogue<2.1.0,>=2.0.6 in c:\\users\\rakes\\anaconda3\\lib\\site-packages (from spacy) (2.0.10)\n",
      "Requirement already satisfied: weasel<0.5.0,>=0.1.0 in c:\\users\\rakes\\anaconda3\\lib\\site-packages (from spacy) (0.4.1)\n",
      "Requirement already satisfied: typer<1.0.0,>=0.3.0 in c:\\users\\rakes\\anaconda3\\lib\\site-packages (from spacy) (0.12.5)\n",
      "Requirement already satisfied: tqdm<5.0.0,>=4.38.0 in c:\\users\\rakes\\anaconda3\\lib\\site-packages (from spacy) (4.65.0)\n",
      "Requirement already satisfied: requests<3.0.0,>=2.13.0 in c:\\users\\rakes\\anaconda3\\lib\\site-packages (from spacy) (2.31.0)\n",
      "Requirement already satisfied: pydantic!=1.8,!=1.8.1,<3.0.0,>=1.7.4 in c:\\users\\rakes\\anaconda3\\lib\\site-packages (from spacy) (1.10.8)\n",
      "Requirement already satisfied: jinja2 in c:\\users\\rakes\\anaconda3\\lib\\site-packages (from spacy) (3.1.2)\n",
      "Requirement already satisfied: setuptools in c:\\users\\rakes\\anaconda3\\lib\\site-packages (from spacy) (68.0.0)\n",
      "Requirement already satisfied: packaging>=20.0 in c:\\users\\rakes\\anaconda3\\lib\\site-packages (from spacy) (23.1)\n",
      "Requirement already satisfied: langcodes<4.0.0,>=3.2.0 in c:\\users\\rakes\\anaconda3\\lib\\site-packages (from spacy) (3.4.1)\n",
      "Requirement already satisfied: numpy>=1.19.0 in c:\\users\\rakes\\anaconda3\\lib\\site-packages (from spacy) (2.0.2)\n",
      "Requirement already satisfied: language-data>=1.2 in c:\\users\\rakes\\anaconda3\\lib\\site-packages (from langcodes<4.0.0,>=3.2.0->spacy) (1.2.0)\n",
      "Requirement already satisfied: typing-extensions>=4.2.0 in c:\\users\\rakes\\anaconda3\\lib\\site-packages (from pydantic!=1.8,!=1.8.1,<3.0.0,>=1.7.4->spacy) (4.7.1)\n",
      "Requirement already satisfied: charset-normalizer<4,>=2 in c:\\users\\rakes\\anaconda3\\lib\\site-packages (from requests<3.0.0,>=2.13.0->spacy) (2.0.4)\n",
      "Requirement already satisfied: idna<4,>=2.5 in c:\\users\\rakes\\anaconda3\\lib\\site-packages (from requests<3.0.0,>=2.13.0->spacy) (3.4)\n",
      "Requirement already satisfied: urllib3<3,>=1.21.1 in c:\\users\\rakes\\anaconda3\\lib\\site-packages (from requests<3.0.0,>=2.13.0->spacy) (1.26.16)\n",
      "Requirement already satisfied: certifi>=2017.4.17 in c:\\users\\rakes\\anaconda3\\lib\\site-packages (from requests<3.0.0,>=2.13.0->spacy) (2023.7.22)\n",
      "Requirement already satisfied: blis<1.1.0,>=1.0.0 in c:\\users\\rakes\\anaconda3\\lib\\site-packages (from thinc<8.4.0,>=8.3.0->spacy) (1.0.1)\n",
      "Requirement already satisfied: confection<1.0.0,>=0.0.1 in c:\\users\\rakes\\anaconda3\\lib\\site-packages (from thinc<8.4.0,>=8.3.0->spacy) (0.1.5)\n",
      "Requirement already satisfied: colorama in c:\\users\\rakes\\anaconda3\\lib\\site-packages (from tqdm<5.0.0,>=4.38.0->spacy) (0.4.6)\n",
      "Requirement already satisfied: click>=8.0.0 in c:\\users\\rakes\\anaconda3\\lib\\site-packages (from typer<1.0.0,>=0.3.0->spacy) (8.0.4)\n",
      "Requirement already satisfied: shellingham>=1.3.0 in c:\\users\\rakes\\anaconda3\\lib\\site-packages (from typer<1.0.0,>=0.3.0->spacy) (1.5.4)\n",
      "Requirement already satisfied: rich>=10.11.0 in c:\\users\\rakes\\anaconda3\\lib\\site-packages (from typer<1.0.0,>=0.3.0->spacy) (13.8.0)\n",
      "Requirement already satisfied: cloudpathlib<1.0.0,>=0.7.0 in c:\\users\\rakes\\anaconda3\\lib\\site-packages (from weasel<0.5.0,>=0.1.0->spacy) (0.20.0)\n",
      "Requirement already satisfied: smart-open<8.0.0,>=5.2.1 in c:\\users\\rakes\\anaconda3\\lib\\site-packages (from weasel<0.5.0,>=0.1.0->spacy) (5.2.1)\n",
      "Requirement already satisfied: MarkupSafe>=2.0 in c:\\users\\rakes\\anaconda3\\lib\\site-packages (from jinja2->spacy) (2.1.1)\n",
      "Requirement already satisfied: marisa-trie>=0.7.7 in c:\\users\\rakes\\anaconda3\\lib\\site-packages (from language-data>=1.2->langcodes<4.0.0,>=3.2.0->spacy) (1.2.1)\n",
      "Requirement already satisfied: markdown-it-py>=2.2.0 in c:\\users\\rakes\\anaconda3\\lib\\site-packages (from rich>=10.11.0->typer<1.0.0,>=0.3.0->spacy) (2.2.0)\n",
      "Requirement already satisfied: pygments<3.0.0,>=2.13.0 in c:\\users\\rakes\\anaconda3\\lib\\site-packages (from rich>=10.11.0->typer<1.0.0,>=0.3.0->spacy) (2.15.1)\n",
      "Requirement already satisfied: mdurl~=0.1 in c:\\users\\rakes\\anaconda3\\lib\\site-packages (from markdown-it-py>=2.2.0->rich>=10.11.0->typer<1.0.0,>=0.3.0->spacy) (0.1.0)\n",
      "Note: you may need to restart the kernel to use updated packages.\n"
     ]
    }
   ],
   "source": [
    "pip install spacy"
   ]
  },
  {
   "cell_type": "code",
   "execution_count": 2,
   "metadata": {},
   "outputs": [
    {
     "name": "stdout",
     "output_type": "stream",
     "text": [
      "Collecting en-core-web-sm==3.8.0\n",
      "  Downloading https://github.com/explosion/spacy-models/releases/download/en_core_web_sm-3.8.0/en_core_web_sm-3.8.0-py3-none-any.whl (12.8 MB)\n",
      "     ---------------------------------------- 0.0/12.8 MB ? eta -:--:--\n",
      "     ---------------------------------------- 0.0/12.8 MB ? eta -:--:--\n",
      "     ---------------------------------------- 0.0/12.8 MB ? eta -:--:--\n",
      "     --------------------------------------- 0.1/12.8 MB 469.7 kB/s eta 0:00:28\n",
      "     --------------------------------------- 0.1/12.8 MB 573.4 kB/s eta 0:00:23\n",
      "     --------------------------------------- 0.1/12.8 MB 573.4 kB/s eta 0:00:23\n",
      "      -------------------------------------- 0.2/12.8 MB 737.3 kB/s eta 0:00:18\n",
      "      -------------------------------------- 0.2/12.8 MB 737.3 kB/s eta 0:00:18\n",
      "      -------------------------------------- 0.3/12.8 MB 827.2 kB/s eta 0:00:16\n",
      "      -------------------------------------- 0.3/12.8 MB 884.2 kB/s eta 0:00:15\n",
      "     - ------------------------------------- 0.5/12.8 MB 972.0 kB/s eta 0:00:13\n",
      "     - ------------------------------------- 0.5/12.8 MB 972.0 kB/s eta 0:00:13\n",
      "     - -------------------------------------- 0.6/12.8 MB 1.2 MB/s eta 0:00:11\n",
      "     - -------------------------------------- 0.6/12.8 MB 1.2 MB/s eta 0:00:11\n",
      "     -- ------------------------------------- 0.7/12.8 MB 1.0 MB/s eta 0:00:12\n",
      "     -- ------------------------------------- 0.7/12.8 MB 1.0 MB/s eta 0:00:12\n",
      "     -- ------------------------------------- 0.7/12.8 MB 1.0 MB/s eta 0:00:12\n",
      "     -- ------------------------------------ 0.7/12.8 MB 892.9 kB/s eta 0:00:14\n",
      "     -- ------------------------------------ 0.7/12.8 MB 892.9 kB/s eta 0:00:14\n",
      "     -- ------------------------------------- 0.9/12.8 MB 1.0 MB/s eta 0:00:12\n",
      "     --- ------------------------------------ 1.0/12.8 MB 1.1 MB/s eta 0:00:11\n",
      "     --- ------------------------------------ 1.0/12.8 MB 1.0 MB/s eta 0:00:12\n",
      "     --- ------------------------------------ 1.0/12.8 MB 1.0 MB/s eta 0:00:12\n",
      "     --- ------------------------------------ 1.1/12.8 MB 1.0 MB/s eta 0:00:12\n",
      "     --- ------------------------------------ 1.1/12.8 MB 1.1 MB/s eta 0:00:11\n",
      "     --- ------------------------------------ 1.3/12.8 MB 1.1 MB/s eta 0:00:11\n",
      "     ---- ----------------------------------- 1.4/12.8 MB 1.1 MB/s eta 0:00:10\n",
      "     ---- ----------------------------------- 1.5/12.8 MB 1.2 MB/s eta 0:00:10\n",
      "     ---- ----------------------------------- 1.5/12.8 MB 1.2 MB/s eta 0:00:10\n",
      "     ----- ---------------------------------- 1.6/12.8 MB 1.2 MB/s eta 0:00:10\n",
      "     ----- ---------------------------------- 1.7/12.8 MB 1.2 MB/s eta 0:00:10\n",
      "     ----- ---------------------------------- 1.8/12.8 MB 1.2 MB/s eta 0:00:09\n",
      "     ----- ---------------------------------- 1.8/12.8 MB 1.3 MB/s eta 0:00:09\n",
      "     ----- ---------------------------------- 1.9/12.8 MB 1.3 MB/s eta 0:00:09\n",
      "     ------ --------------------------------- 2.0/12.8 MB 1.3 MB/s eta 0:00:09\n",
      "     ------ --------------------------------- 2.1/12.8 MB 1.3 MB/s eta 0:00:09\n",
      "     ------ --------------------------------- 2.1/12.8 MB 1.3 MB/s eta 0:00:09\n",
      "     ------- -------------------------------- 2.2/12.8 MB 1.3 MB/s eta 0:00:08\n",
      "     ------- -------------------------------- 2.3/12.8 MB 1.3 MB/s eta 0:00:08\n",
      "     ------- -------------------------------- 2.4/12.8 MB 1.4 MB/s eta 0:00:08\n",
      "     ------- -------------------------------- 2.5/12.8 MB 1.4 MB/s eta 0:00:08\n",
      "     ------- -------------------------------- 2.5/12.8 MB 1.4 MB/s eta 0:00:08\n",
      "     ------- -------------------------------- 2.5/12.8 MB 1.4 MB/s eta 0:00:08\n",
      "     -------- ------------------------------- 2.8/12.8 MB 1.4 MB/s eta 0:00:08\n",
      "     -------- ------------------------------- 2.8/12.8 MB 1.4 MB/s eta 0:00:08\n",
      "     --------- ------------------------------ 2.9/12.8 MB 1.4 MB/s eta 0:00:07\n",
      "     --------- ------------------------------ 3.0/12.8 MB 1.4 MB/s eta 0:00:07\n",
      "     --------- ------------------------------ 3.1/12.8 MB 1.4 MB/s eta 0:00:07\n",
      "     --------- ------------------------------ 3.2/12.8 MB 1.4 MB/s eta 0:00:07\n",
      "     ---------- ----------------------------- 3.2/12.8 MB 1.5 MB/s eta 0:00:07\n",
      "     ---------- ----------------------------- 3.3/12.8 MB 1.4 MB/s eta 0:00:07\n",
      "     ---------- ----------------------------- 3.3/12.8 MB 1.4 MB/s eta 0:00:07\n",
      "     ---------- ----------------------------- 3.4/12.8 MB 1.4 MB/s eta 0:00:07\n",
      "     ---------- ----------------------------- 3.4/12.8 MB 1.4 MB/s eta 0:00:07\n",
      "     ---------- ----------------------------- 3.5/12.8 MB 1.4 MB/s eta 0:00:07\n",
      "     ----------- ---------------------------- 3.5/12.8 MB 1.4 MB/s eta 0:00:07\n",
      "     ----------- ---------------------------- 3.5/12.8 MB 1.4 MB/s eta 0:00:07\n",
      "     ----------- ---------------------------- 3.5/12.8 MB 1.4 MB/s eta 0:00:07\n",
      "     ----------- ---------------------------- 3.6/12.8 MB 1.4 MB/s eta 0:00:07\n",
      "     ----------- ---------------------------- 3.6/12.8 MB 1.3 MB/s eta 0:00:07\n",
      "     ------------ --------------------------- 3.9/12.8 MB 1.4 MB/s eta 0:00:07\n",
      "     ------------ --------------------------- 4.0/12.8 MB 1.4 MB/s eta 0:00:07\n",
      "     ------------ --------------------------- 4.1/12.8 MB 1.4 MB/s eta 0:00:07\n",
      "     ------------ --------------------------- 4.1/12.8 MB 1.4 MB/s eta 0:00:07\n",
      "     ------------- -------------------------- 4.2/12.8 MB 1.4 MB/s eta 0:00:06\n",
      "     ------------- -------------------------- 4.3/12.8 MB 1.4 MB/s eta 0:00:06\n",
      "     ------------- -------------------------- 4.4/12.8 MB 1.4 MB/s eta 0:00:06\n",
      "     -------------- ------------------------- 4.5/12.8 MB 1.5 MB/s eta 0:00:06\n",
      "     -------------- ------------------------- 4.6/12.8 MB 1.5 MB/s eta 0:00:06\n",
      "     -------------- ------------------------- 4.6/12.8 MB 1.5 MB/s eta 0:00:06\n",
      "     -------------- ------------------------- 4.7/12.8 MB 1.5 MB/s eta 0:00:06\n",
      "     --------------- ------------------------ 4.8/12.8 MB 1.5 MB/s eta 0:00:06\n",
      "     --------------- ------------------------ 4.9/12.8 MB 1.5 MB/s eta 0:00:06\n",
      "     --------------- ------------------------ 5.0/12.8 MB 1.5 MB/s eta 0:00:06\n",
      "     --------------- ------------------------ 5.0/12.8 MB 1.5 MB/s eta 0:00:06\n",
      "     --------------- ------------------------ 5.1/12.8 MB 1.5 MB/s eta 0:00:06\n",
      "     ---------------- ----------------------- 5.2/12.8 MB 1.5 MB/s eta 0:00:06\n",
      "     ---------------- ----------------------- 5.3/12.8 MB 1.5 MB/s eta 0:00:06\n",
      "     ---------------- ----------------------- 5.4/12.8 MB 1.5 MB/s eta 0:00:05\n",
      "     ----------------- ---------------------- 5.4/12.8 MB 1.5 MB/s eta 0:00:05\n",
      "     ----------------- ---------------------- 5.5/12.8 MB 1.5 MB/s eta 0:00:05\n",
      "     ----------------- ---------------------- 5.6/12.8 MB 1.5 MB/s eta 0:00:05\n",
      "     ----------------- ---------------------- 5.7/12.8 MB 1.5 MB/s eta 0:00:05\n",
      "     ------------------ --------------------- 5.8/12.8 MB 1.5 MB/s eta 0:00:05\n",
      "     ------------------ --------------------- 5.9/12.8 MB 1.5 MB/s eta 0:00:05\n",
      "     ------------------ --------------------- 6.0/12.8 MB 1.5 MB/s eta 0:00:05\n",
      "     ------------------ --------------------- 6.1/12.8 MB 1.5 MB/s eta 0:00:05\n",
      "     ------------------- -------------------- 6.1/12.8 MB 1.5 MB/s eta 0:00:05\n",
      "     ------------------- -------------------- 6.2/12.8 MB 1.5 MB/s eta 0:00:05\n",
      "     ------------------- -------------------- 6.3/12.8 MB 1.5 MB/s eta 0:00:05\n",
      "     ------------------- -------------------- 6.3/12.8 MB 1.5 MB/s eta 0:00:05\n",
      "     -------------------- ------------------- 6.4/12.8 MB 1.5 MB/s eta 0:00:05\n",
      "     -------------------- ------------------- 6.5/12.8 MB 1.5 MB/s eta 0:00:05\n",
      "     -------------------- ------------------- 6.6/12.8 MB 1.5 MB/s eta 0:00:05\n",
      "     -------------------- ------------------- 6.6/12.8 MB 1.5 MB/s eta 0:00:05\n",
      "     -------------------- ------------------- 6.6/12.8 MB 1.5 MB/s eta 0:00:05\n",
      "     -------------------- ------------------- 6.6/12.8 MB 1.5 MB/s eta 0:00:05\n",
      "     -------------------- ------------------- 6.6/12.8 MB 1.5 MB/s eta 0:00:05\n",
      "     --------------------- ------------------ 6.8/12.8 MB 1.5 MB/s eta 0:00:05\n",
      "     --------------------- ------------------ 6.9/12.8 MB 1.5 MB/s eta 0:00:04\n",
      "     --------------------- ------------------ 7.0/12.8 MB 1.5 MB/s eta 0:00:04\n",
      "     ---------------------- ----------------- 7.1/12.8 MB 1.5 MB/s eta 0:00:04\n",
      "     ---------------------- ----------------- 7.2/12.8 MB 1.5 MB/s eta 0:00:04\n",
      "     ---------------------- ----------------- 7.2/12.8 MB 1.5 MB/s eta 0:00:04\n",
      "     ---------------------- ----------------- 7.3/12.8 MB 1.5 MB/s eta 0:00:04\n",
      "     ----------------------- ---------------- 7.4/12.8 MB 1.5 MB/s eta 0:00:04\n",
      "     ----------------------- ---------------- 7.5/12.8 MB 1.5 MB/s eta 0:00:04\n",
      "     ----------------------- ---------------- 7.6/12.8 MB 1.5 MB/s eta 0:00:04\n",
      "     ----------------------- ---------------- 7.6/12.8 MB 1.5 MB/s eta 0:00:04\n",
      "     ------------------------ --------------- 7.7/12.8 MB 1.5 MB/s eta 0:00:04\n",
      "     ------------------------ --------------- 7.8/12.8 MB 1.5 MB/s eta 0:00:04\n",
      "     ------------------------ --------------- 7.9/12.8 MB 1.5 MB/s eta 0:00:04\n",
      "     ------------------------ --------------- 7.9/12.8 MB 1.5 MB/s eta 0:00:04\n",
      "     ------------------------ --------------- 8.0/12.8 MB 1.5 MB/s eta 0:00:04\n",
      "     ------------------------- -------------- 8.1/12.8 MB 1.5 MB/s eta 0:00:04\n",
      "     ------------------------- -------------- 8.2/12.8 MB 1.6 MB/s eta 0:00:03\n",
      "     ------------------------- -------------- 8.3/12.8 MB 1.5 MB/s eta 0:00:03\n",
      "     -------------------------- ------------- 8.4/12.8 MB 1.5 MB/s eta 0:00:03\n",
      "     -------------------------- ------------- 8.5/12.8 MB 1.6 MB/s eta 0:00:03\n",
      "     -------------------------- ------------- 8.6/12.8 MB 1.6 MB/s eta 0:00:03\n",
      "     -------------------------- ------------- 8.6/12.8 MB 1.6 MB/s eta 0:00:03\n",
      "     --------------------------- ------------ 8.7/12.8 MB 1.6 MB/s eta 0:00:03\n",
      "     --------------------------- ------------ 8.8/12.8 MB 1.6 MB/s eta 0:00:03\n",
      "     --------------------------- ------------ 8.8/12.8 MB 1.6 MB/s eta 0:00:03\n",
      "     --------------------------- ------------ 8.9/12.8 MB 1.6 MB/s eta 0:00:03\n",
      "     ---------------------------- ----------- 9.0/12.8 MB 1.6 MB/s eta 0:00:03\n",
      "     ---------------------------- ----------- 9.1/12.8 MB 1.6 MB/s eta 0:00:03\n",
      "     ---------------------------- ----------- 9.2/12.8 MB 1.6 MB/s eta 0:00:03\n",
      "     ---------------------------- ----------- 9.3/12.8 MB 1.6 MB/s eta 0:00:03\n",
      "     ----------------------------- ---------- 9.3/12.8 MB 1.6 MB/s eta 0:00:03\n",
      "     ----------------------------- ---------- 9.4/12.8 MB 1.6 MB/s eta 0:00:03\n",
      "     ----------------------------- ---------- 9.5/12.8 MB 1.6 MB/s eta 0:00:03\n",
      "     ----------------------------- ---------- 9.6/12.8 MB 1.6 MB/s eta 0:00:03\n",
      "     ------------------------------ --------- 9.7/12.8 MB 1.6 MB/s eta 0:00:02\n",
      "     ------------------------------ --------- 9.7/12.8 MB 1.6 MB/s eta 0:00:02\n",
      "     ------------------------------ --------- 9.8/12.8 MB 1.6 MB/s eta 0:00:02\n",
      "     ------------------------------ --------- 9.9/12.8 MB 1.6 MB/s eta 0:00:02\n",
      "     ------------------------------- -------- 10.0/12.8 MB 1.6 MB/s eta 0:00:02\n",
      "     ------------------------------- -------- 10.1/12.8 MB 1.6 MB/s eta 0:00:02\n",
      "     ------------------------------- -------- 10.2/12.8 MB 1.6 MB/s eta 0:00:02\n",
      "     ------------------------------- -------- 10.2/12.8 MB 1.6 MB/s eta 0:00:02\n",
      "     -------------------------------- ------- 10.3/12.8 MB 1.6 MB/s eta 0:00:02\n",
      "     -------------------------------- ------- 10.4/12.8 MB 1.6 MB/s eta 0:00:02\n",
      "     -------------------------------- ------- 10.5/12.8 MB 1.6 MB/s eta 0:00:02\n",
      "     -------------------------------- ------- 10.5/12.8 MB 1.6 MB/s eta 0:00:02\n",
      "     --------------------------------- ------ 10.6/12.8 MB 1.6 MB/s eta 0:00:02\n",
      "     --------------------------------- ------ 10.7/12.8 MB 1.6 MB/s eta 0:00:02\n",
      "     --------------------------------- ------ 10.8/12.8 MB 1.6 MB/s eta 0:00:02\n",
      "     --------------------------------- ------ 10.9/12.8 MB 1.6 MB/s eta 0:00:02\n",
      "     ---------------------------------- ----- 10.9/12.8 MB 1.7 MB/s eta 0:00:02\n",
      "     ---------------------------------- ----- 11.0/12.8 MB 1.7 MB/s eta 0:00:02\n",
      "     ---------------------------------- ----- 11.0/12.8 MB 1.7 MB/s eta 0:00:02\n",
      "     ---------------------------------- ----- 11.1/12.8 MB 1.7 MB/s eta 0:00:02\n",
      "     ----------------------------------- ---- 11.3/12.8 MB 1.7 MB/s eta 0:00:01\n",
      "     ----------------------------------- ---- 11.4/12.8 MB 1.7 MB/s eta 0:00:01\n",
      "     ----------------------------------- ---- 11.4/12.8 MB 1.7 MB/s eta 0:00:01\n",
      "     ------------------------------------ --- 11.5/12.8 MB 1.7 MB/s eta 0:00:01\n",
      "     ------------------------------------ --- 11.6/12.8 MB 1.7 MB/s eta 0:00:01\n",
      "     ------------------------------------ --- 11.7/12.8 MB 1.7 MB/s eta 0:00:01\n",
      "     ------------------------------------ --- 11.8/12.8 MB 1.7 MB/s eta 0:00:01\n",
      "     ------------------------------------- -- 11.9/12.8 MB 1.7 MB/s eta 0:00:01\n",
      "     ------------------------------------- -- 11.9/12.8 MB 1.7 MB/s eta 0:00:01\n",
      "     ------------------------------------- -- 12.0/12.8 MB 1.7 MB/s eta 0:00:01\n",
      "     ------------------------------------- -- 12.1/12.8 MB 1.7 MB/s eta 0:00:01\n",
      "     ------------------------------------- -- 12.2/12.8 MB 1.7 MB/s eta 0:00:01\n",
      "     -------------------------------------- - 12.2/12.8 MB 1.7 MB/s eta 0:00:01\n",
      "     -------------------------------------- - 12.3/12.8 MB 1.7 MB/s eta 0:00:01\n",
      "     -------------------------------------- - 12.4/12.8 MB 1.7 MB/s eta 0:00:01\n",
      "     -------------------------------------- - 12.5/12.8 MB 1.7 MB/s eta 0:00:01\n",
      "     -------------------------------------- - 12.5/12.8 MB 1.7 MB/s eta 0:00:01\n",
      "     -------------------------------------- - 12.5/12.8 MB 1.7 MB/s eta 0:00:01\n",
      "     ---------------------------------------  12.7/12.8 MB 1.7 MB/s eta 0:00:01\n",
      "     ---------------------------------------  12.8/12.8 MB 1.7 MB/s eta 0:00:01\n",
      "     ---------------------------------------  12.8/12.8 MB 1.7 MB/s eta 0:00:01\n",
      "     ---------------------------------------- 12.8/12.8 MB 1.7 MB/s eta 0:00:00\n",
      "\u001b[38;5;2m[+] Download and installation successful\u001b[0m\n",
      "You can now load the package via spacy.load('en_core_web_sm')\n"
     ]
    }
   ],
   "source": [
    "!python -m spacy download en_core_web_sm"
   ]
  },
  {
   "cell_type": "code",
   "execution_count": 3,
   "metadata": {},
   "outputs": [
    {
     "name": "stdout",
     "output_type": "stream",
     "text": [
      "Requirement already satisfied: nltk in c:\\users\\rakes\\anaconda3\\lib\\site-packages (3.8.1)\n",
      "Requirement already satisfied: click in c:\\users\\rakes\\anaconda3\\lib\\site-packages (from nltk) (8.0.4)\n",
      "Requirement already satisfied: joblib in c:\\users\\rakes\\anaconda3\\lib\\site-packages (from nltk) (1.2.0)\n",
      "Requirement already satisfied: regex>=2021.8.3 in c:\\users\\rakes\\anaconda3\\lib\\site-packages (from nltk) (2022.7.9)\n",
      "Requirement already satisfied: tqdm in c:\\users\\rakes\\anaconda3\\lib\\site-packages (from nltk) (4.65.0)\n",
      "Requirement already satisfied: colorama in c:\\users\\rakes\\anaconda3\\lib\\site-packages (from click->nltk) (0.4.6)\n",
      "Note: you may need to restart the kernel to use updated packages.\n"
     ]
    }
   ],
   "source": [
    "pip install nltk"
   ]
  },
  {
   "cell_type": "code",
   "execution_count": null,
   "metadata": {},
   "outputs": [],
   "source": [
    "#"
   ]
  },
  {
   "cell_type": "code",
   "execution_count": 4,
   "metadata": {},
   "outputs": [
    {
     "name": "stdout",
     "output_type": "stream",
     "text": [
      "Captain\n",
      "america\n",
      "ate\n",
      "100\n",
      "$\n",
      "of\n",
      "samosa\n",
      ".\n",
      "Then\n",
      "he\n",
      "said\n",
      "I\n",
      "can\n",
      "do\n",
      "this\n",
      "all\n",
      "day\n",
      ".\n"
     ]
    }
   ],
   "source": [
    "import spacy\n",
    "\n",
    "nlp = spacy.blank(\"en\")\n",
    "\n",
    "doc = nlp(\"Captain america ate 100$ of samosa. Then he said I can do this all day.\")\n",
    "\n",
    "for token in doc:\n",
    "    print(token)"
   ]
  },
  {
   "cell_type": "markdown",
   "metadata": {},
   "source": [
    "We get above error because we have a blank pipeline as shown below. Pipeline is something that starts with a Tokenizer component in a dotted rectange below. You can see there is nothing there hence the blank pipeline"
   ]
  },
  {
   "cell_type": "markdown",
   "metadata": {},
   "source": [
    "<img height=300 width=400 src=\"spacy_blank_pipeline.jpg\" />"
   ]
  },
  {
   "cell_type": "code",
   "execution_count": 5,
   "metadata": {
    "scrolled": true
   },
   "outputs": [
    {
     "data": {
      "text/plain": [
       "[]"
      ]
     },
     "execution_count": 5,
     "metadata": {},
     "output_type": "execute_result"
    }
   ],
   "source": [
    "nlp.pipe_names"
   ]
  },
  {
   "cell_type": "markdown",
   "metadata": {},
   "source": [
    "nlp.pipe_names is empty array indicating no components in the pipeline. Pipeline is something that starts with a tokenizer "
   ]
  },
  {
   "cell_type": "markdown",
   "metadata": {},
   "source": [
    "More general diagram for nlp pipeline may look something like below"
   ]
  },
  {
   "cell_type": "markdown",
   "metadata": {},
   "source": [
    "<img height=300 width=400 src=\"spacy_loaded_pipeline.jpg\" />"
   ]
  },
  {
   "cell_type": "markdown",
   "metadata": {},
   "source": [
    "<h3>Download trained pipeline</h3>"
   ]
  },
  {
   "cell_type": "markdown",
   "metadata": {},
   "source": [
    "To download trained pipeline use a command such as,\n",
    "\n",
    "python -m spacy download en_core_web_sm\n",
    "\n",
    "This downloads the small (sm) pipeline for english language\n",
    "\n",
    "Further instructions on : https://spacy.io/usage/models#quickstart"
   ]
  },
  {
   "cell_type": "markdown",
   "metadata": {},
   "source": [
    "https://www.debug.school/rakeshdevcotocus_468/automating-tasks-by-processing-text-using-nlp-pipeline-1kj4"
   ]
  },
  {
   "cell_type": "code",
   "execution_count": 6,
   "metadata": {},
   "outputs": [],
   "source": [
    "#different kind of pipname\n",
    "#Token Information like pos ,their explanation ,lemma(base form)\n",
    "#This part identifies named entities (like company names or amounts) in the sentence.\n",
    "#Use a Sample Text and List Detected Entity Types\n",
    "#Get All Entity Types in spaCy’s Language Model\n",
    "# Visualization with displacy like visually highlights named entities in the text.\n",
    "# A short explanation of the entity type.\n",
    "#Custom Pipeline and Entity Recognition\n",
    "#Adding a component to a blank pipeline"
   ]
  },
  {
   "cell_type": "code",
   "execution_count": 7,
   "metadata": {},
   "outputs": [
    {
     "data": {
      "text/plain": [
       "['tok2vec', 'tagger', 'parser', 'attribute_ruler', 'lemmatizer', 'ner']"
      ]
     },
     "execution_count": 7,
     "metadata": {},
     "output_type": "execute_result"
    }
   ],
   "source": [
    "nlp = spacy.load(\"en_core_web_sm\")\n",
    "nlp.pipe_names"
   ]
  },
  {
   "cell_type": "code",
   "execution_count": 8,
   "metadata": {},
   "outputs": [
    {
     "data": {
      "text/plain": [
       "[('tok2vec', <spacy.pipeline.tok2vec.Tok2Vec at 0x25fcda47fb0>),\n",
       " ('tagger', <spacy.pipeline.tagger.Tagger at 0x25fcda47bf0>),\n",
       " ('parser', <spacy.pipeline.dep_parser.DependencyParser at 0x25fcda4cf90>),\n",
       " ('attribute_ruler',\n",
       "  <spacy.pipeline.attributeruler.AttributeRuler at 0x25fcdd72250>),\n",
       " ('lemmatizer', <spacy.lang.en.lemmatizer.EnglishLemmatizer at 0x25fcdd41fd0>),\n",
       " ('ner', <spacy.pipeline.ner.EntityRecognizer at 0x25fcda4cdd0>)]"
      ]
     },
     "execution_count": 8,
     "metadata": {},
     "output_type": "execute_result"
    }
   ],
   "source": [
    "#different kind of pipname\n",
    "nlp.pipeline"
   ]
  },
  {
   "cell_type": "markdown",
   "metadata": {},
   "source": [
    "sm in en_core_web_sm means small. There are other models available as well such as medium, large etc. Check this: https://spacy.io/usage/models#quickstart"
   ]
  },
  {
   "cell_type": "code",
   "execution_count": null,
   "metadata": {},
   "outputs": [],
   "source": [
    "#Token Information like pos ,their explanation ,lemma(base form)"
   ]
  },
  {
   "cell_type": "code",
   "execution_count": 9,
   "metadata": {
    "scrolled": true
   },
   "outputs": [
    {
     "name": "stdout",
     "output_type": "stream",
     "text": [
      "Captain  |  proper noun  |  Captain\n",
      "america  |  proper noun  |  america\n",
      "ate  |  verb  |  eat\n",
      "100  |  numeral  |  100\n",
      "$  |  numeral  |  $\n",
      "of  |  adposition  |  of\n",
      "samosa  |  proper noun  |  samosa\n",
      ".  |  punctuation  |  .\n",
      "Then  |  adverb  |  then\n",
      "he  |  pronoun  |  he\n",
      "said  |  verb  |  say\n",
      "I  |  pronoun  |  I\n",
      "can  |  auxiliary  |  can\n",
      "do  |  verb  |  do\n",
      "this  |  pronoun  |  this\n",
      "all  |  determiner  |  all\n",
      "day  |  noun  |  day\n",
      ".  |  punctuation  |  .\n"
     ]
    }
   ],
   "source": [
    "doc = nlp(\"Captain america ate 100$ of samosa. Then he said I can do this all day.\")\n",
    "\n",
    "for token in doc:\n",
    "    print(token, \" | \", spacy.explain(token.pos_), \" | \", token.lemma_)"
   ]
  },
  {
   "cell_type": "markdown",
   "metadata": {},
   "source": [
    "**Run same code above with a blank pipeline and check what output you see?**"
   ]
  },
  {
   "cell_type": "markdown",
   "metadata": {},
   "source": [
    "<h3>Named Entity Recognition</h3>"
   ]
  },
  {
   "cell_type": "code",
   "execution_count": null,
   "metadata": {},
   "outputs": [],
   "source": [
    "#This part identifies named entities (like company names or amounts) in the sentence."
   ]
  },
  {
   "cell_type": "code",
   "execution_count": 10,
   "metadata": {},
   "outputs": [
    {
     "name": "stdout",
     "output_type": "stream",
     "text": [
      "Detected Entity Types: {'PERSON', 'ORG', 'GPE', 'MONEY'}\n"
     ]
    }
   ],
   "source": [
    "#Use a Sample Text and List Detected Entity Types\n",
    "import spacy\n",
    "\n",
    "# Load the spaCy model\n",
    "nlp = spacy.load(\"en_core_web_sm\")\n",
    "\n",
    "# Sample text\n",
    "doc = nlp(\"Google, based in California, was founded by Larry Page and Sergey Brin. It is worth over $1 trillion.\")\n",
    "\n",
    "# Extract and print unique entity types\n",
    "unique_entity_labels = set(ent.label_ for ent in doc.ents)\n",
    "print(\"Detected Entity Types:\", unique_entity_labels)"
   ]
  },
  {
   "cell_type": "code",
   "execution_count": 11,
   "metadata": {},
   "outputs": [
    {
     "name": "stdout",
     "output_type": "stream",
     "text": [
      "Possible Named Entities:\n",
      "CARDINAL : Numerals that do not fall under another type\n",
      "DATE : Absolute or relative dates or periods\n",
      "EVENT : Named hurricanes, battles, wars, sports events, etc.\n",
      "FAC : Buildings, airports, highways, bridges, etc.\n",
      "GPE : Countries, cities, states\n",
      "LANGUAGE : Any named language\n",
      "LAW : Named documents made into laws.\n",
      "LOC : Non-GPE locations, mountain ranges, bodies of water\n",
      "MONEY : Monetary values, including unit\n",
      "NORP : Nationalities or religious or political groups\n",
      "ORDINAL : \"first\", \"second\", etc.\n",
      "ORG : Companies, agencies, institutions, etc.\n",
      "PERCENT : Percentage, including \"%\"\n",
      "PERSON : People, including fictional\n",
      "PRODUCT : Objects, vehicles, foods, etc. (not services)\n",
      "QUANTITY : Measurements, as of weight or distance\n",
      "TIME : Times smaller than a day\n",
      "WORK_OF_ART : Titles of books, songs, etc.\n"
     ]
    }
   ],
   "source": [
    "#Get All Entity Types in spaCy’s Language Model\n",
    "print(\"Possible Named Entities:\")\n",
    "for label in nlp.get_pipe(\"ner\").labels:\n",
    "    print(label, \":\", spacy.explain(label))"
   ]
  },
  {
   "cell_type": "code",
   "execution_count": 12,
   "metadata": {
    "scrolled": true
   },
   "outputs": [
    {
     "name": "stdout",
     "output_type": "stream",
     "text": [
      "Tesla Inc ORG\n",
      "$45 billion MONEY\n"
     ]
    }
   ],
   "source": [
    "doc = nlp(\"Tesla Inc is going to acquire twitter for $45 billion\")\n",
    "for ent in doc.ents:\n",
    "    print(ent.text, ent.label_)"
   ]
  },
  {
   "cell_type": "code",
   "execution_count": 13,
   "metadata": {},
   "outputs": [
    {
     "data": {
      "text/html": [
       "<span class=\"tex2jax_ignore\"><div class=\"entities\" style=\"line-height: 2.5; direction: ltr\">\n",
       "<mark class=\"entity\" style=\"background: #7aecec; padding: 0.45em 0.6em; margin: 0 0.25em; line-height: 1; border-radius: 0.35em;\">\n",
       "    Tesla Inc\n",
       "    <span style=\"font-size: 0.8em; font-weight: bold; line-height: 1; border-radius: 0.35em; vertical-align: middle; margin-left: 0.5rem\">ORG</span>\n",
       "</mark>\n",
       " is going to acquire twitter for \n",
       "<mark class=\"entity\" style=\"background: #e4e7d2; padding: 0.45em 0.6em; margin: 0 0.25em; line-height: 1; border-radius: 0.35em;\">\n",
       "    $45 billion\n",
       "    <span style=\"font-size: 0.8em; font-weight: bold; line-height: 1; border-radius: 0.35em; vertical-align: middle; margin-left: 0.5rem\">MONEY</span>\n",
       "</mark>\n",
       "</div></span>"
      ],
      "text/plain": [
       "<IPython.core.display.HTML object>"
      ]
     },
     "metadata": {},
     "output_type": "display_data"
    }
   ],
   "source": [
    "from spacy import displacy\n",
    "\n",
    "displacy.render(doc, style=\"ent\")"
   ]
  },
  {
   "cell_type": "markdown",
   "metadata": {},
   "source": [
    "<h3>Trained processing pipeline in French</h3>"
   ]
  },
  {
   "cell_type": "code",
   "execution_count": 14,
   "metadata": {},
   "outputs": [
    {
     "name": "stdout",
     "output_type": "stream",
     "text": [
      "Collecting fr-core-news-sm==3.8.0\n",
      "  Downloading https://github.com/explosion/spacy-models/releases/download/fr_core_news_sm-3.8.0/fr_core_news_sm-3.8.0-py3-none-any.whl (16.3 MB)\n",
      "     ---------------------------------------- 0.0/16.3 MB ? eta -:--:--\n",
      "     ---------------------------------------- 0.0/16.3 MB ? eta -:--:--\n",
      "     ---------------------------------------- 0.0/16.3 MB ? eta -:--:--\n",
      "     --------------------------------------- 0.1/16.3 MB 440.4 kB/s eta 0:00:37\n",
      "     --------------------------------------- 0.1/16.3 MB 419.2 kB/s eta 0:00:39\n",
      "     --------------------------------------- 0.1/16.3 MB 554.9 kB/s eta 0:00:30\n",
      "     --------------------------------------- 0.2/16.3 MB 541.0 kB/s eta 0:00:30\n",
      "      -------------------------------------- 0.2/16.3 MB 754.9 kB/s eta 0:00:22\n",
      "      -------------------------------------- 0.3/16.3 MB 770.1 kB/s eta 0:00:21\n",
      "      -------------------------------------- 0.3/16.3 MB 813.9 kB/s eta 0:00:20\n",
      "      -------------------------------------- 0.3/16.3 MB 813.9 kB/s eta 0:00:20\n",
      "      -------------------------------------- 0.3/16.3 MB 813.9 kB/s eta 0:00:20\n",
      "      -------------------------------------- 0.4/16.3 MB 752.1 kB/s eta 0:00:22\n",
      "     - ------------------------------------- 0.6/16.3 MB 932.5 kB/s eta 0:00:17\n",
      "     - ------------------------------------- 0.6/16.3 MB 924.8 kB/s eta 0:00:17\n",
      "     - ------------------------------------- 0.6/16.3 MB 924.8 kB/s eta 0:00:17\n",
      "     - ------------------------------------- 0.6/16.3 MB 924.8 kB/s eta 0:00:17\n",
      "     - ------------------------------------- 0.6/16.3 MB 924.8 kB/s eta 0:00:17\n",
      "     - ------------------------------------- 0.6/16.3 MB 744.0 kB/s eta 0:00:22\n",
      "     - ------------------------------------- 0.7/16.3 MB 737.3 kB/s eta 0:00:22\n",
      "     - ------------------------------------- 0.8/16.3 MB 892.9 kB/s eta 0:00:18\n",
      "     -- ------------------------------------ 0.8/16.3 MB 856.9 kB/s eta 0:00:19\n",
      "     -- ------------------------------------ 0.9/16.3 MB 890.9 kB/s eta 0:00:18\n",
      "     -- ------------------------------------ 1.0/16.3 MB 930.0 kB/s eta 0:00:17\n",
      "     -- ------------------------------------ 1.0/16.3 MB 954.6 kB/s eta 0:00:16\n",
      "     -- ------------------------------------ 1.0/16.3 MB 954.6 kB/s eta 0:00:16\n",
      "     -- ------------------------------------ 1.0/16.3 MB 954.6 kB/s eta 0:00:16\n",
      "     -- ------------------------------------ 1.1/16.3 MB 884.7 kB/s eta 0:00:18\n",
      "     -- ------------------------------------ 1.2/16.3 MB 919.3 kB/s eta 0:00:17\n",
      "     --- ----------------------------------- 1.3/16.3 MB 956.1 kB/s eta 0:00:16\n",
      "     --- ------------------------------------ 1.4/16.3 MB 1.0 MB/s eta 0:00:15\n",
      "     --- ----------------------------------- 1.4/16.3 MB 990.5 kB/s eta 0:00:15\n",
      "     --- ------------------------------------ 1.5/16.3 MB 1.0 MB/s eta 0:00:15\n",
      "     --- ------------------------------------ 1.5/16.3 MB 1.0 MB/s eta 0:00:15\n",
      "     ---- ----------------------------------- 1.7/16.3 MB 1.1 MB/s eta 0:00:14\n",
      "     ---- ----------------------------------- 1.7/16.3 MB 1.1 MB/s eta 0:00:14\n",
      "     ---- ----------------------------------- 1.7/16.3 MB 1.1 MB/s eta 0:00:14\n",
      "     ---- ----------------------------------- 1.7/16.3 MB 1.1 MB/s eta 0:00:14\n",
      "     ---- ----------------------------------- 1.7/16.3 MB 1.1 MB/s eta 0:00:14\n",
      "     ---- ----------------------------------- 1.7/16.3 MB 1.1 MB/s eta 0:00:14\n",
      "     ---- ----------------------------------- 1.7/16.3 MB 1.1 MB/s eta 0:00:14\n",
      "     ---- ---------------------------------- 1.9/16.3 MB 975.2 kB/s eta 0:00:15\n",
      "     ---- ----------------------------------- 2.0/16.3 MB 1.0 MB/s eta 0:00:14\n",
      "     ---- ----------------------------------- 2.0/16.3 MB 1.0 MB/s eta 0:00:14\n",
      "     ---- ----------------------------------- 2.0/16.3 MB 1.0 MB/s eta 0:00:14\n",
      "     ----- ---------------------------------- 2.2/16.3 MB 1.0 MB/s eta 0:00:14\n",
      "     ----- ---------------------------------- 2.2/16.3 MB 1.0 MB/s eta 0:00:14\n",
      "     ----- ---------------------------------- 2.3/16.3 MB 1.1 MB/s eta 0:00:14\n",
      "     ----- ---------------------------------- 2.3/16.3 MB 1.1 MB/s eta 0:00:14\n",
      "     ------ --------------------------------- 2.4/16.3 MB 1.1 MB/s eta 0:00:13\n",
      "     ------ --------------------------------- 2.6/16.3 MB 1.1 MB/s eta 0:00:13\n",
      "     ------ --------------------------------- 2.7/16.3 MB 1.1 MB/s eta 0:00:13\n",
      "     ------ --------------------------------- 2.8/16.3 MB 1.2 MB/s eta 0:00:12\n",
      "     ------- -------------------------------- 2.9/16.3 MB 1.2 MB/s eta 0:00:12\n",
      "     ------- -------------------------------- 3.0/16.3 MB 1.2 MB/s eta 0:00:12\n",
      "     ------- -------------------------------- 3.0/16.3 MB 1.2 MB/s eta 0:00:12\n",
      "     ------- -------------------------------- 3.0/16.3 MB 1.2 MB/s eta 0:00:12\n",
      "     ------- -------------------------------- 3.1/16.3 MB 1.2 MB/s eta 0:00:12\n",
      "     ------- -------------------------------- 3.1/16.3 MB 1.2 MB/s eta 0:00:12\n",
      "     -------- ------------------------------- 3.3/16.3 MB 1.2 MB/s eta 0:00:11\n",
      "     -------- ------------------------------- 3.4/16.3 MB 1.2 MB/s eta 0:00:11\n",
      "     -------- ------------------------------- 3.4/16.3 MB 1.2 MB/s eta 0:00:11\n",
      "     -------- ------------------------------- 3.4/16.3 MB 1.2 MB/s eta 0:00:11\n",
      "     -------- ------------------------------- 3.5/16.3 MB 1.2 MB/s eta 0:00:11\n",
      "     -------- ------------------------------- 3.5/16.3 MB 1.2 MB/s eta 0:00:11\n",
      "     --------- ------------------------------ 3.7/16.3 MB 1.2 MB/s eta 0:00:11\n",
      "     --------- ------------------------------ 3.9/16.3 MB 1.3 MB/s eta 0:00:10\n",
      "     --------- ------------------------------ 3.9/16.3 MB 1.3 MB/s eta 0:00:10\n",
      "     --------- ------------------------------ 4.0/16.3 MB 1.3 MB/s eta 0:00:10\n",
      "     --------- ------------------------------ 4.0/16.3 MB 1.3 MB/s eta 0:00:10\n",
      "     --------- ------------------------------ 4.0/16.3 MB 1.2 MB/s eta 0:00:10\n",
      "     ---------- ----------------------------- 4.1/16.3 MB 1.2 MB/s eta 0:00:10\n",
      "     ---------- ----------------------------- 4.3/16.3 MB 1.3 MB/s eta 0:00:10\n",
      "     ---------- ----------------------------- 4.3/16.3 MB 1.3 MB/s eta 0:00:10\n",
      "     ---------- ----------------------------- 4.3/16.3 MB 1.3 MB/s eta 0:00:10\n",
      "     ---------- ----------------------------- 4.3/16.3 MB 1.3 MB/s eta 0:00:10\n",
      "     ---------- ----------------------------- 4.4/16.3 MB 1.2 MB/s eta 0:00:10\n",
      "     ---------- ----------------------------- 4.4/16.3 MB 1.2 MB/s eta 0:00:10\n",
      "     ----------- ---------------------------- 4.6/16.3 MB 1.3 MB/s eta 0:00:10\n",
      "     ----------- ---------------------------- 4.7/16.3 MB 1.3 MB/s eta 0:00:10\n",
      "     ----------- ---------------------------- 4.7/16.3 MB 1.3 MB/s eta 0:00:10\n",
      "     ----------- ---------------------------- 4.8/16.3 MB 1.3 MB/s eta 0:00:09\n",
      "     ------------ --------------------------- 4.9/16.3 MB 1.3 MB/s eta 0:00:09\n",
      "     ------------ --------------------------- 4.9/16.3 MB 1.3 MB/s eta 0:00:09\n",
      "     ------------ --------------------------- 4.9/16.3 MB 1.3 MB/s eta 0:00:09\n",
      "     ------------ --------------------------- 4.9/16.3 MB 1.3 MB/s eta 0:00:09\n",
      "     ------------ --------------------------- 5.2/16.3 MB 1.3 MB/s eta 0:00:09\n",
      "     ------------- -------------------------- 5.4/16.3 MB 1.3 MB/s eta 0:00:09\n",
      "     ------------- -------------------------- 5.5/16.3 MB 1.3 MB/s eta 0:00:09\n",
      "     ------------- -------------------------- 5.6/16.3 MB 1.4 MB/s eta 0:00:08\n",
      "     -------------- ------------------------- 5.7/16.3 MB 1.4 MB/s eta 0:00:08\n",
      "     -------------- ------------------------- 5.8/16.3 MB 1.4 MB/s eta 0:00:08\n",
      "     -------------- ------------------------- 5.8/16.3 MB 1.4 MB/s eta 0:00:08\n",
      "     -------------- ------------------------- 5.8/16.3 MB 1.4 MB/s eta 0:00:08\n",
      "     -------------- ------------------------- 5.8/16.3 MB 1.4 MB/s eta 0:00:08\n",
      "     -------------- ------------------------- 5.8/16.3 MB 1.4 MB/s eta 0:00:08\n",
      "     -------------- ------------------------- 5.9/16.3 MB 1.3 MB/s eta 0:00:08\n",
      "     -------------- ------------------------- 6.0/16.3 MB 1.3 MB/s eta 0:00:08\n",
      "     --------------- ------------------------ 6.3/16.3 MB 1.4 MB/s eta 0:00:08\n",
      "     --------------- ------------------------ 6.4/16.3 MB 1.4 MB/s eta 0:00:08\n",
      "     ---------------- ----------------------- 6.5/16.3 MB 1.4 MB/s eta 0:00:07\n",
      "     ---------------- ----------------------- 6.6/16.3 MB 1.4 MB/s eta 0:00:07\n",
      "     ---------------- ----------------------- 6.6/16.3 MB 1.4 MB/s eta 0:00:07\n",
      "     ---------------- ----------------------- 6.7/16.3 MB 1.4 MB/s eta 0:00:07\n",
      "     ---------------- ----------------------- 6.7/16.3 MB 1.4 MB/s eta 0:00:07\n",
      "     ---------------- ----------------------- 6.9/16.3 MB 1.4 MB/s eta 0:00:07\n",
      "     ----------------- ---------------------- 7.0/16.3 MB 1.4 MB/s eta 0:00:07\n",
      "     ----------------- ---------------------- 7.1/16.3 MB 1.4 MB/s eta 0:00:07\n",
      "     ----------------- ---------------------- 7.3/16.3 MB 1.4 MB/s eta 0:00:07\n",
      "     ------------------ --------------------- 7.4/16.3 MB 1.5 MB/s eta 0:00:07\n",
      "     ------------------ --------------------- 7.5/16.3 MB 1.5 MB/s eta 0:00:07\n",
      "     ------------------ --------------------- 7.6/16.3 MB 1.5 MB/s eta 0:00:06\n",
      "     ------------------- -------------------- 7.8/16.3 MB 1.5 MB/s eta 0:00:06\n",
      "     ------------------- -------------------- 7.9/16.3 MB 1.5 MB/s eta 0:00:06\n",
      "     ------------------- -------------------- 8.0/16.3 MB 1.5 MB/s eta 0:00:06\n",
      "     -------------------- ------------------- 8.2/16.3 MB 1.5 MB/s eta 0:00:06\n",
      "     -------------------- ------------------- 8.2/16.3 MB 1.5 MB/s eta 0:00:06\n",
      "     -------------------- ------------------- 8.4/16.3 MB 1.5 MB/s eta 0:00:06\n",
      "     -------------------- ------------------- 8.5/16.3 MB 1.6 MB/s eta 0:00:06\n",
      "     --------------------- ------------------ 8.6/16.3 MB 1.6 MB/s eta 0:00:05\n",
      "     --------------------- ------------------ 8.8/16.3 MB 1.6 MB/s eta 0:00:05\n",
      "     --------------------- ------------------ 8.8/16.3 MB 1.6 MB/s eta 0:00:05\n",
      "     --------------------- ------------------ 8.9/16.3 MB 1.6 MB/s eta 0:00:05\n",
      "     ---------------------- ----------------- 9.1/16.3 MB 1.6 MB/s eta 0:00:05\n",
      "     ---------------------- ----------------- 9.1/16.3 MB 1.6 MB/s eta 0:00:05\n",
      "     ---------------------- ----------------- 9.1/16.3 MB 1.6 MB/s eta 0:00:05\n",
      "     ---------------------- ----------------- 9.3/16.3 MB 1.6 MB/s eta 0:00:05\n",
      "     ----------------------- ---------------- 9.6/16.3 MB 1.6 MB/s eta 0:00:05\n",
      "     ----------------------- ---------------- 9.7/16.3 MB 1.6 MB/s eta 0:00:04\n",
      "     ------------------------ --------------- 9.9/16.3 MB 1.6 MB/s eta 0:00:04\n",
      "     ------------------------ --------------- 10.0/16.3 MB 1.7 MB/s eta 0:00:04\n",
      "     ------------------------ --------------- 10.1/16.3 MB 1.7 MB/s eta 0:00:04\n",
      "     ------------------------- -------------- 10.2/16.3 MB 1.7 MB/s eta 0:00:04\n",
      "     ------------------------- -------------- 10.2/16.3 MB 1.7 MB/s eta 0:00:04\n",
      "     ------------------------- -------------- 10.2/16.3 MB 1.7 MB/s eta 0:00:04\n",
      "     ------------------------- -------------- 10.3/16.3 MB 1.7 MB/s eta 0:00:04\n",
      "     ------------------------- -------------- 10.3/16.3 MB 1.7 MB/s eta 0:00:04\n",
      "     ------------------------- -------------- 10.5/16.3 MB 1.7 MB/s eta 0:00:04\n",
      "     -------------------------- ------------- 11.0/16.3 MB 1.9 MB/s eta 0:00:03\n",
      "     --------------------------- ------------ 11.0/16.3 MB 1.9 MB/s eta 0:00:03\n",
      "     --------------------------- ------------ 11.1/16.3 MB 1.9 MB/s eta 0:00:03\n",
      "     --------------------------- ------------ 11.2/16.3 MB 1.8 MB/s eta 0:00:03\n",
      "     --------------------------- ------------ 11.3/16.3 MB 1.9 MB/s eta 0:00:03\n",
      "     ---------------------------- ----------- 11.4/16.3 MB 1.9 MB/s eta 0:00:03\n",
      "     ---------------------------- ----------- 11.6/16.3 MB 1.9 MB/s eta 0:00:03\n",
      "     ---------------------------- ----------- 11.7/16.3 MB 1.9 MB/s eta 0:00:03\n",
      "     ---------------------------- ----------- 11.8/16.3 MB 2.0 MB/s eta 0:00:03\n",
      "     ----------------------------- ---------- 11.8/16.3 MB 1.9 MB/s eta 0:00:03\n",
      "     ----------------------------- ---------- 11.8/16.3 MB 1.9 MB/s eta 0:00:03\n",
      "     ----------------------------- ---------- 12.1/16.3 MB 2.0 MB/s eta 0:00:03\n",
      "     ------------------------------ --------- 12.2/16.3 MB 2.0 MB/s eta 0:00:02\n",
      "     ------------------------------ --------- 12.3/16.3 MB 2.1 MB/s eta 0:00:02\n",
      "     ------------------------------ --------- 12.5/16.3 MB 2.1 MB/s eta 0:00:02\n",
      "     ------------------------------ --------- 12.5/16.3 MB 2.1 MB/s eta 0:00:02\n",
      "     ------------------------------ --------- 12.5/16.3 MB 2.1 MB/s eta 0:00:02\n",
      "     ------------------------------ --------- 12.5/16.3 MB 2.0 MB/s eta 0:00:02\n",
      "     ------------------------------- -------- 12.7/16.3 MB 2.1 MB/s eta 0:00:02\n",
      "     ------------------------------- -------- 13.0/16.3 MB 2.1 MB/s eta 0:00:02\n",
      "     -------------------------------- ------- 13.1/16.3 MB 2.1 MB/s eta 0:00:02\n",
      "     -------------------------------- ------- 13.1/16.3 MB 2.1 MB/s eta 0:00:02\n",
      "     -------------------------------- ------- 13.2/16.3 MB 2.1 MB/s eta 0:00:02\n",
      "     -------------------------------- ------- 13.4/16.3 MB 2.1 MB/s eta 0:00:02\n",
      "     --------------------------------- ------ 13.5/16.3 MB 2.1 MB/s eta 0:00:02\n",
      "     --------------------------------- ------ 13.6/16.3 MB 2.1 MB/s eta 0:00:02\n",
      "     --------------------------------- ------ 13.7/16.3 MB 2.2 MB/s eta 0:00:02\n",
      "     --------------------------------- ------ 13.8/16.3 MB 2.2 MB/s eta 0:00:02\n",
      "     ---------------------------------- ----- 13.9/16.3 MB 2.2 MB/s eta 0:00:02\n",
      "     ---------------------------------- ----- 14.0/16.3 MB 2.2 MB/s eta 0:00:02\n",
      "     ---------------------------------- ----- 14.1/16.3 MB 2.2 MB/s eta 0:00:01\n",
      "     ----------------------------------- ---- 14.2/16.3 MB 2.2 MB/s eta 0:00:01\n",
      "     ----------------------------------- ---- 14.4/16.3 MB 2.2 MB/s eta 0:00:01\n",
      "     ----------------------------------- ---- 14.5/16.3 MB 2.2 MB/s eta 0:00:01\n",
      "     ----------------------------------- ---- 14.6/16.3 MB 2.3 MB/s eta 0:00:01\n",
      "     ------------------------------------ --- 14.8/16.3 MB 2.3 MB/s eta 0:00:01\n",
      "     ------------------------------------ --- 14.9/16.3 MB 2.3 MB/s eta 0:00:01\n",
      "     ------------------------------------ --- 15.0/16.3 MB 2.3 MB/s eta 0:00:01\n",
      "     ------------------------------------- -- 15.1/16.3 MB 2.4 MB/s eta 0:00:01\n",
      "     ------------------------------------- -- 15.3/16.3 MB 2.4 MB/s eta 0:00:01\n",
      "     ------------------------------------- -- 15.4/16.3 MB 2.4 MB/s eta 0:00:01\n",
      "     -------------------------------------- - 15.5/16.3 MB 2.4 MB/s eta 0:00:01\n",
      "     -------------------------------------- - 15.7/16.3 MB 2.4 MB/s eta 0:00:01\n",
      "     -------------------------------------- - 15.7/16.3 MB 2.4 MB/s eta 0:00:01\n",
      "     ---------------------------------------  15.9/16.3 MB 2.4 MB/s eta 0:00:01\n",
      "     ---------------------------------------  16.0/16.3 MB 2.4 MB/s eta 0:00:01\n",
      "     ---------------------------------------  16.1/16.3 MB 2.5 MB/s eta 0:00:01\n",
      "     ---------------------------------------  16.2/16.3 MB 2.5 MB/s eta 0:00:01\n",
      "     ---------------------------------------  16.3/16.3 MB 2.5 MB/s eta 0:00:01\n",
      "     ---------------------------------------  16.3/16.3 MB 2.5 MB/s eta 0:00:01\n",
      "     ---------------------------------------- 16.3/16.3 MB 2.4 MB/s eta 0:00:00\n",
      "\u001b[38;5;2m[+] Download and installation successful\u001b[0m\n",
      "You can now load the package via spacy.load('fr_core_news_sm')\n"
     ]
    }
   ],
   "source": [
    "!python -m spacy download fr_core_news_sm"
   ]
  },
  {
   "cell_type": "code",
   "execution_count": 15,
   "metadata": {},
   "outputs": [],
   "source": [
    "nlp = spacy.load(\"fr_core_news_sm\")"
   ]
  },
  {
   "cell_type": "markdown",
   "metadata": {},
   "source": [
    "You need to install the processing pipeline for french language using this command,\n",
    "\n",
    "python -m spacy download fr_core_news_sm"
   ]
  },
  {
   "cell_type": "code",
   "execution_count": 16,
   "metadata": {},
   "outputs": [],
   "source": [
    "nlp = spacy.load(\"fr_core_news_sm\")"
   ]
  },
  {
   "cell_type": "code",
   "execution_count": 17,
   "metadata": {},
   "outputs": [
    {
     "name": "stdout",
     "output_type": "stream",
     "text": [
      "Tesla Inc  |  PER  |  Named person or family.\n",
      "Twitter  |  MISC  |  Miscellaneous entities, e.g. events, nationalities, products or works of art\n"
     ]
    }
   ],
   "source": [
    "doc = nlp(\"Tesla Inc va racheter Twitter pour $45 milliards de dollars\")\n",
    "for ent in doc.ents:\n",
    "    print(ent.text, \" | \", ent.label_, \" | \", spacy.explain(ent.label_))"
   ]
  },
  {
   "cell_type": "code",
   "execution_count": 18,
   "metadata": {
    "scrolled": false
   },
   "outputs": [
    {
     "name": "stdout",
     "output_type": "stream",
     "text": [
      "Tesla  |  PROPN  |  Tesla\n",
      "Inc  |  PROPN  |  Inc\n",
      "va  |  VERB  |  aller\n",
      "racheter  |  VERB  |  racheter\n",
      "Twitter  |  VERB  |  twitter\n",
      "pour  |  ADP  |  pour\n",
      "$  |  NOUN  |  dollar\n",
      "45  |  NUM  |  45\n",
      "milliards  |  NOUN  |  milliard\n",
      "de  |  ADP  |  de\n",
      "dollars  |  NOUN  |  dollar\n"
     ]
    }
   ],
   "source": [
    "for token in doc:\n",
    "    print(token, \" | \", token.pos_, \" | \", token.lemma_)"
   ]
  },
  {
   "cell_type": "markdown",
   "metadata": {},
   "source": [
    "<h3>Adding a component to a blank pipeline</h3>"
   ]
  },
  {
   "cell_type": "code",
   "execution_count": 19,
   "metadata": {},
   "outputs": [
    {
     "data": {
      "text/plain": [
       "['ner']"
      ]
     },
     "execution_count": 19,
     "metadata": {},
     "output_type": "execute_result"
    }
   ],
   "source": [
    "source_nlp = spacy.load(\"en_core_web_sm\")\n",
    "\n",
    "nlp = spacy.blank(\"en\")\n",
    "nlp.add_pipe(\"ner\", source=source_nlp)\n",
    "nlp.pipe_names"
   ]
  },
  {
   "cell_type": "code",
   "execution_count": 20,
   "metadata": {},
   "outputs": [
    {
     "name": "stdout",
     "output_type": "stream",
     "text": [
      "Tesla Inc ORG\n",
      "$45 billion MONEY\n"
     ]
    }
   ],
   "source": [
    "doc = nlp(\"Tesla Inc is going to acquire twitter for $45 billion\")\n",
    "for ent in doc.ents:\n",
    "    print(ent.text, ent.label_)"
   ]
  },
  {
   "cell_type": "code",
   "execution_count": 21,
   "metadata": {},
   "outputs": [
    {
     "name": "stdout",
     "output_type": "stream",
     "text": [
      "Tesla  |    |  Tesla\n",
      "Inc  |    |  Inc\n",
      "is  |    |  is\n",
      "going  |    |  going\n",
      "to  |    |  to\n",
      "acquire  |    |  acquire\n",
      "twitter  |    |  twitter\n",
      "for  |    |  for\n",
      "$  |    |  $\n",
      "45  |    |  45\n",
      "billion  |    |  billion\n"
     ]
    }
   ],
   "source": [
    "for token in doc:\n",
    "    print(token.text, \" | \", token.dep_, \" | \", token.head.text)"
   ]
  },
  {
   "cell_type": "code",
   "execution_count": 22,
   "metadata": {},
   "outputs": [
    {
     "name": "stdout",
     "output_type": "stream",
     "text": [
      "Tesla  |  False\n",
      "Inc  |  False\n",
      "is  |  True\n",
      "going  |  False\n",
      "to  |  True\n",
      "acquire  |  False\n",
      "twitter  |  False\n",
      "for  |  True\n",
      "$  |  False\n",
      "45  |  False\n",
      "billion  |  False\n"
     ]
    }
   ],
   "source": [
    "for token in doc:\n",
    "    print(token.text, \" | \", token.is_stop)"
   ]
  },
  {
   "cell_type": "code",
   "execution_count": 24,
   "metadata": {},
   "outputs": [
    {
     "name": "stdout",
     "output_type": "stream",
     "text": [
      "This is the first sentence.\n",
      "This is the second sentence.\n"
     ]
    }
   ],
   "source": [
    "import spacy\n",
    "\n",
    "nlp = spacy.load(\"en_core_web_sm\")\n",
    "nlp.add_pipe(\"sentencizer\")  # Add the sentencizer to the pipeline\n",
    "\n",
    "doc = nlp(\"This is the first sentence. This is the second sentence.\")\n",
    "for sent in doc.sents:\n",
    "    print(sent)"
   ]
  },
  {
   "cell_type": "code",
   "execution_count": 26,
   "metadata": {},
   "outputs": [
    {
     "name": "stdout",
     "output_type": "stream",
     "text": [
      "Custom component\n"
     ]
    }
   ],
   "source": [
    "import spacy\n",
    "from spacy.language import Language\n",
    "\n",
    "# Define and register the custom component\n",
    "@Language.component(\"custom_component\")\n",
    "def custom_component(doc):\n",
    "    print(\"Custom component\")\n",
    "    return doc\n",
    "\n",
    "# Load the spaCy model\n",
    "nlp = spacy.load(\"en_core_web_sm\")\n",
    "\n",
    "# Add the component to the pipeline using its name\n",
    "nlp.add_pipe(\"custom_component\", last=True)\n",
    "\n",
    "# Test the pipeline\n",
    "doc = nlp(\"This is a test sentence.\")"
   ]
  },
  {
   "cell_type": "code",
   "execution_count": 27,
   "metadata": {},
   "outputs": [
    {
     "name": "stdout",
     "output_type": "stream",
     "text": [
      "Custom component\n",
      "Custom component\n",
      "0.7422727346420288\n"
     ]
    },
    {
     "name": "stderr",
     "output_type": "stream",
     "text": [
      "C:\\Users\\rakes\\AppData\\Local\\Temp\\ipykernel_16884\\1789896257.py:3: UserWarning: [W007] The model you're using has no word vectors loaded, so the result of the Doc.similarity method will be based on the tagger, parser and NER, which may not give useful similarity judgements. This may happen if you're using one of the small models, e.g. `en_core_web_sm`, which don't ship with word vectors and only use context-sensitive tensors. You can always add your own word vectors, or use one of the larger models instead if available.\n",
      "  print(doc1.similarity(doc2))\n"
     ]
    }
   ],
   "source": [
    "doc1 = nlp(\"cat\")\n",
    "doc2 = nlp(\"dog\")\n",
    "print(doc1.similarity(doc2))"
   ]
  },
  {
   "cell_type": "code",
   "execution_count": 28,
   "metadata": {},
   "outputs": [
    {
     "name": "stdout",
     "output_type": "stream",
     "text": [
      "This  |  [-0.32963437 -0.49875662  0.39574748  0.75809145  0.24849215]\n",
      "is  |  [ 0.8627015   0.79238445 -0.02256067 -0.21371616  0.97954464]\n",
      "a  |  [ 1.4822263   0.11548758  1.4996794   0.77538466 -0.64772826]\n",
      "test  |  [ 0.28101185 -0.47633532  1.8650059   0.46909714 -0.1305256 ]\n",
      "sentence  |  [-0.7220636  -0.30611536  0.2598266  -0.42837867  0.8273482 ]\n",
      ".  |  [-0.94648755 -0.3767298  -1.0847697  -0.5486675  -0.6191116 ]\n"
     ]
    }
   ],
   "source": [
    "for token in doc:\n",
    "    print(token.text, \" | \", token.vector[:5])  # First 5 values"
   ]
  },
  {
   "cell_type": "code",
   "execution_count": 29,
   "metadata": {},
   "outputs": [
    {
     "name": "stdout",
     "output_type": "stream",
     "text": [
      "['tok2vec', 'tagger', 'parser', 'attribute_ruler', 'lemmatizer', 'ner', 'custom_component']\n"
     ]
    }
   ],
   "source": [
    "print(nlp.pipe_names)"
   ]
  },
  {
   "cell_type": "code",
   "execution_count": 30,
   "metadata": {},
   "outputs": [
    {
     "name": "stdout",
     "output_type": "stream",
     "text": [
      "Custom component\n",
      "[('Tesla Inc', 'ORG'), ('Twitter', 'PERSON')]\n",
      "Custom component\n",
      "[('Microsoft', 'ORG'), ('GitHub', 'PRODUCT')]\n"
     ]
    }
   ],
   "source": [
    "texts = [\"Tesla Inc is acquiring Twitter.\", \"Microsoft bought GitHub.\"]\n",
    "for doc in nlp.pipe(texts):\n",
    "    print([(ent.text, ent.label_) for ent in doc.ents])"
   ]
  },
  {
   "cell_type": "code",
   "execution_count": 35,
   "metadata": {},
   "outputs": [
    {
     "name": "stdout",
     "output_type": "stream",
     "text": [
      "Requirement already satisfied: spacy-langdetect in c:\\users\\rakes\\anaconda3\\lib\\site-packages (0.1.2)\n",
      "Requirement already satisfied: pytest in c:\\users\\rakes\\anaconda3\\lib\\site-packages (from spacy-langdetect) (7.4.0)\n",
      "Requirement already satisfied: langdetect==1.0.7 in c:\\users\\rakes\\anaconda3\\lib\\site-packages (from spacy-langdetect) (1.0.7)\n",
      "Requirement already satisfied: six in c:\\users\\rakes\\anaconda3\\lib\\site-packages (from langdetect==1.0.7->spacy-langdetect) (1.16.0)\n",
      "Requirement already satisfied: iniconfig in c:\\users\\rakes\\anaconda3\\lib\\site-packages (from pytest->spacy-langdetect) (1.1.1)\n",
      "Requirement already satisfied: packaging in c:\\users\\rakes\\anaconda3\\lib\\site-packages (from pytest->spacy-langdetect) (23.1)\n",
      "Requirement already satisfied: pluggy<2.0,>=0.12 in c:\\users\\rakes\\anaconda3\\lib\\site-packages (from pytest->spacy-langdetect) (1.0.0)\n",
      "Requirement already satisfied: colorama in c:\\users\\rakes\\anaconda3\\lib\\site-packages (from pytest->spacy-langdetect) (0.4.6)\n",
      "Note: you may need to restart the kernel to use updated packages.\n"
     ]
    }
   ],
   "source": [
    "pip install spacy-langdetect\n"
   ]
  },
  {
   "cell_type": "code",
   "execution_count": 37,
   "metadata": {},
   "outputs": [
    {
     "name": "stdout",
     "output_type": "stream",
     "text": [
      "{'language': 'fr', 'score': 0.999996474594318}\n"
     ]
    }
   ],
   "source": [
    "from spacy_langdetect import LanguageDetector\n",
    "import spacy\n",
    "from spacy.language import Language\n",
    "\n",
    "# Load spaCy model\n",
    "nlp = spacy.load(\"en_core_web_sm\")\n",
    "\n",
    "# Register the LanguageDetector component with a factory name\n",
    "@Language.factory(\"language_detector\")\n",
    "def create_language_detector(nlp, name):\n",
    "    return LanguageDetector()\n",
    "\n",
    "# Add the language detector to the pipeline by using its factory name\n",
    "nlp.add_pipe(\"language_detector\", last=True)\n",
    "\n",
    "# Test the language detection\n",
    "doc = nlp(\"Bonjour tout le monde\")\n",
    "print(doc._.language)  # Output the detected language"
   ]
  },
  {
   "cell_type": "markdown",
   "metadata": {},
   "source": [
    "In below image you can see sentecizer component in the pipeline"
   ]
  },
  {
   "cell_type": "markdown",
   "metadata": {},
   "source": [
    "<img height=300 width=400 src=\"sentecizer.jpg\" />"
   ]
  },
  {
   "cell_type": "markdown",
   "metadata": {},
   "source": [
    "<h3>Further reading</h3>"
   ]
  },
  {
   "cell_type": "markdown",
   "metadata": {},
   "source": [
    "https://spacy.io/usage/processing-pipelines#pipelines"
   ]
  }
 ],
 "metadata": {
  "kernelspec": {
   "display_name": "Python 3 (ipykernel)",
   "language": "python",
   "name": "python3"
  },
  "language_info": {
   "codemirror_mode": {
    "name": "ipython",
    "version": 3
   },
   "file_extension": ".py",
   "mimetype": "text/x-python",
   "name": "python",
   "nbconvert_exporter": "python",
   "pygments_lexer": "ipython3",
   "version": "3.11.5"
  }
 },
 "nbformat": 4,
 "nbformat_minor": 4
}
