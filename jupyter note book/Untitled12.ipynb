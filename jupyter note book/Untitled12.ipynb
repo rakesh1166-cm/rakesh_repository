{
 "cells": [
  {
   "cell_type": "code",
   "execution_count": 1,
   "id": "4a9919b8",
   "metadata": {},
   "outputs": [
    {
     "name": "stdout",
     "output_type": "stream",
     "text": [
      "[[1]\n",
      " [2]\n",
      " [3]\n",
      " [4]\n",
      " [5]]\n"
     ]
    }
   ],
   "source": [
    "import pandas as pd\n",
    "\n",
    "# 1D array\n",
    "array_1d = [1, 2, 3, 4, 5]\n",
    "\n",
    "# Convert to 2D DataFrame and then to a 2D array\n",
    "array_2d = pd.DataFrame(array_1d).values\n",
    "print(array_2d)"
   ]
  },
  {
   "cell_type": "code",
   "execution_count": 2,
   "id": "e00dfada",
   "metadata": {},
   "outputs": [
    {
     "name": "stdout",
     "output_type": "stream",
     "text": [
      "[[1], [2], [3], [4], [5]]\n"
     ]
    }
   ],
   "source": [
    "# 1D array\n",
    "array_1d = [1, 2, 3, 4, 5]\n",
    "\n",
    "# Convert to 2D array with one column\n",
    "array_2d = [[x] for x in array_1d]\n",
    "print(array_2d)"
   ]
  },
  {
   "cell_type": "code",
   "execution_count": 3,
   "id": "a4994416",
   "metadata": {},
   "outputs": [
    {
     "name": "stdout",
     "output_type": "stream",
     "text": [
      "[[1]\n",
      " [2]\n",
      " [3]\n",
      " [4]\n",
      " [5]]\n"
     ]
    }
   ],
   "source": [
    "import numpy as np\n",
    "\n",
    "# 1D array\n",
    "array_1d = np.array([1, 2, 3, 4, 5])\n",
    "\n",
    "# Convert to 2D array with one column\n",
    "array_2d = np.expand_dims(array_1d, axis=1)\n",
    "print(array_2d)"
   ]
  },
  {
   "cell_type": "code",
   "execution_count": 4,
   "id": "cf9df7fa",
   "metadata": {},
   "outputs": [
    {
     "name": "stdout",
     "output_type": "stream",
     "text": [
      "[[1]\n",
      " [2]\n",
      " [3]\n",
      " [4]\n",
      " [5]]\n"
     ]
    }
   ],
   "source": [
    "import numpy as np\n",
    "\n",
    "# 1D array\n",
    "array_1d = np.array([1, 2, 3, 4, 5])\n",
    "\n",
    "# Convert to 2D array with one column\n",
    "array_2d = array_1d[:, np.newaxis]\n",
    "print(array_2d)"
   ]
  },
  {
   "cell_type": "code",
   "execution_count": 5,
   "id": "ad19a55b",
   "metadata": {},
   "outputs": [
    {
     "name": "stdout",
     "output_type": "stream",
     "text": [
      "[[1]\n",
      " [2]\n",
      " [3]\n",
      " [4]\n",
      " [5]]\n"
     ]
    }
   ],
   "source": [
    "import numpy as np\n",
    "\n",
    "# 1D array\n",
    "array_1d = np.array([1, 2, 3, 4, 5])\n",
    "\n",
    "# Convert to 2D array with one column\n",
    "array_2d = array_1d.reshape(-1, 1)\n",
    "print(array_2d)"
   ]
  },
  {
   "cell_type": "code",
   "execution_count": null,
   "id": "bc8fb204",
   "metadata": {},
   "outputs": [],
   "source": []
  }
 ],
 "metadata": {
  "kernelspec": {
   "display_name": "Python 3 (ipykernel)",
   "language": "python",
   "name": "python3"
  },
  "language_info": {
   "codemirror_mode": {
    "name": "ipython",
    "version": 3
   },
   "file_extension": ".py",
   "mimetype": "text/x-python",
   "name": "python",
   "nbconvert_exporter": "python",
   "pygments_lexer": "ipython3",
   "version": "3.11.5"
  }
 },
 "nbformat": 4,
 "nbformat_minor": 5
}
